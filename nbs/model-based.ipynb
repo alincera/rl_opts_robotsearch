{
 "cells": [
  {
   "cell_type": "markdown",
   "id": "94b46e3d-85d8-4f61-8fa2-9f67cdf869f7",
   "metadata": {},
   "source": [
    "# Libs"
   ]
  },
  {
   "cell_type": "code",
   "execution_count": 2,
   "id": "78a18ecd-9b1d-49bb-8079-d831e49362ed",
   "metadata": {},
   "outputs": [],
   "source": [
    "import numpy as np\n",
    "import matplotlib.pyplot as plt\n",
    "\n",
    "from andi_datasets.models_phenom import models_phenom\n",
    "mp = models_phenom()"
   ]
  },
  {
   "cell_type": "markdown",
   "id": "98b70cb0-130b-449a-8cba-7c099d195622",
   "metadata": {},
   "source": [
    "# Checking distance between targets in uniform distribution"
   ]
  },
  {
   "cell_type": "code",
   "execution_count": 8,
   "id": "74fd6ee3-cc18-44c9-884d-09219d7eab19",
   "metadata": {},
   "outputs": [],
   "source": [
    "L = 200\n",
    "x = np.random.rand(int(1e3), 2)*L\n",
    "distance = mp._get_distance(x)"
   ]
  },
  {
   "cell_type": "code",
   "execution_count": 17,
   "id": "54247064-1952-45a8-9660-978c78d78e96",
   "metadata": {},
   "outputs": [
    {
     "data": {
      "text/plain": [
       "(499500,)"
      ]
     },
     "execution_count": 17,
     "metadata": {},
     "output_type": "execute_result"
    }
   ],
   "source": [
    "dis = np.triu(distance).flatten()\n",
    "dis = dis[dis!=0]\n",
    "dis.shape"
   ]
  },
  {
   "cell_type": "code",
   "execution_count": 21,
   "id": "20312618-fdd9-4673-a620-ec13f19434df",
   "metadata": {},
   "outputs": [
    {
     "data": {
      "image/png": "[encoded data removed]",
      "text/plain": [
       "<Figure size 432x288 with 1 Axes>"
      ]
     },
     "metadata": {
      "needs_background": "light"
     },
     "output_type": "display_data"
    }
   ],
   "source": [
    "plt.hist(dis, bins = 1000);"
   ]
  },
  {
   "cell_type": "code",
   "execution_count": null,
   "id": "1c50446d-cee2-48f0-956d-e40ad94d722f",
   "metadata": {},
   "outputs": [],
   "source": []
  }
 ],
 "metadata": {
  "kernelspec": {
   "display_name": "Python 3",
   "language": "python",
   "name": "python3"
  },
  "language_info": {
   "codemirror_mode": {
    "name": "ipython",
    "version": 3
   },
   "file_extension": ".py",
   "mimetype": "text/x-python",
   "name": "python",
   "nbconvert_exporter": "python",
   "pygments_lexer": "ipython3",
   "version": "3.8.8"
  }
 },
 "nbformat": 4,
 "nbformat_minor": 5
}
