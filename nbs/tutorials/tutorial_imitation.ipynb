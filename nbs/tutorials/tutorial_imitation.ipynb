{
 "cells": [
  {
   "cell_type": "markdown",
   "id": "increasing-knitting",
   "metadata": {},
   "source": [
    "# Imitation learning\n",
    "\n",
    "In this brief tutorial we show how to reproduce the Figures 6 and 7c of the Appendix of [our paper](soon). The goal is to show that projective simulation (PS) can imitate the policy of agent moving following a certain step length distribution. We focus on two distributions: Lévy and Bi-exponential.\n",
    "\n",
    "First, let's load the needed libraries and functions. See that `rl_opts` needs to be already installed (see instructions in the README file)."
   ]
  },
  {
   "cell_type": "code",
   "execution_count": null,
   "id": "52dd4402-14a9-4ed2-ab58-ea680743cda8",
   "metadata": {},
   "outputs": [],
   "source": [
    "import numpy as np\n",
    "import matplotlib.pyplot as plt\n",
    "from tqdm.notebook import tqdm\n",
    "\n",
    "from rl_opts.imitation import PS_imitation\n",
    "from rl_opts.analytics import pdf_powerlaw, pdf_multimode, pdf_discrete_sample, get_policy"
   ]
  },
  {
   "cell_type": "markdown",
   "id": "velvet-works",
   "metadata": {},
   "source": [
    "## Lévy distributions\n",
    "We consider distribution of the type $P(L)=L^{-1-\\beta}$, with various $\\beta$:"
   ]
  },
  {
   "cell_type": "code",
   "execution_count": null,
   "id": "4246ec92-060d-4b35-9f86-a7de2ad30e5e",
   "metadata": {},
   "outputs": [
    {
     "data": {
      "application/vnd.jupyter.widget-view+json": {
       "model_id": "89df2be5b755469ca6f66499506f1938",
       "version_major": 2,
       "version_minor": 0
      },
      "text/plain": [
       "  0%|          | 0/100 [00:00<?, ?it/s]"
      ]
     },
     "metadata": {},
     "output_type": "display_data"
    },
    {
     "ename": "KeyboardInterrupt",
     "evalue": "",
     "output_type": "error",
     "traceback": [
      "\u001b[1;31m---------------------------------------------------------------------------\u001b[0m",
      "\u001b[1;31mKeyboardInterrupt\u001b[0m                         Traceback (most recent call last)",
      "Cell \u001b[1;32mIn[2], line 18\u001b[0m\n\u001b[0;32m     16\u001b[0m imitator\u001b[38;5;241m.\u001b[39mreset()\n\u001b[0;32m     17\u001b[0m \u001b[38;5;28;01mfor\u001b[39;00m s \u001b[38;5;129;01min\u001b[39;00m steps[e]:    \n\u001b[1;32m---> 18\u001b[0m     \u001b[43mimitator\u001b[49m\u001b[38;5;241;43m.\u001b[39;49m\u001b[43mupdate\u001b[49m\u001b[43m(\u001b[49m\u001b[43mlength\u001b[49m\u001b[43m \u001b[49m\u001b[38;5;241;43m=\u001b[39;49m\u001b[43m \u001b[49m\u001b[43ms\u001b[49m\u001b[43m)\u001b[49m\n",
      "File \u001b[1;32mc:\\users\\gorka\\github\\rl_optimal_search\\rl_opts\\imitation.py:53\u001b[0m, in \u001b[0;36mPS_imitation.update\u001b[1;34m(self, length, reward)\u001b[0m\n\u001b[0;32m     51\u001b[0m \u001b[38;5;28mself\u001b[39m\u001b[38;5;241m.\u001b[39mg_matrix[\u001b[38;5;241m0\u001b[39m, :length\u001b[38;5;241m-\u001b[39m\u001b[38;5;241m1\u001b[39m] \u001b[38;5;241m+\u001b[39m\u001b[38;5;241m=\u001b[39m \u001b[38;5;241m1\u001b[39m   \n\u001b[0;32m     52\u001b[0m \u001b[38;5;66;03m# Multiply by eta**x all previous states\u001b[39;00m\n\u001b[1;32m---> 53\u001b[0m \u001b[38;5;28mself\u001b[39m\u001b[38;5;241m.\u001b[39mg_matrix[\u001b[38;5;241m0\u001b[39m, :length\u001b[38;5;241m-\u001b[39m\u001b[38;5;241m1\u001b[39m] \u001b[38;5;241m*\u001b[39m\u001b[38;5;241m=\u001b[39m (factor\u001b[38;5;241m*\u001b[39m\u001b[38;5;241m*\u001b[39m\u001b[43mnp\u001b[49m\u001b[38;5;241;43m.\u001b[39;49m\u001b[43marange\u001b[49m\u001b[43m(\u001b[49m\u001b[38;5;241;43m1\u001b[39;49m\u001b[43m,\u001b[49m\u001b[43mlength\u001b[49m\u001b[43m)\u001b[49m)[::\u001b[38;5;241m-\u001b[39m\u001b[38;5;241m1\u001b[39m]\n\u001b[0;32m     54\u001b[0m \u001b[38;5;66;03m# Multiply the rest of the matrix by number of steps don\u001b[39;00m\n\u001b[0;32m     55\u001b[0m \u001b[38;5;28mself\u001b[39m\u001b[38;5;241m.\u001b[39mg_matrix[\u001b[38;5;241m0\u001b[39m, length\u001b[38;5;241m-\u001b[39m\u001b[38;5;241m1\u001b[39m:] \u001b[38;5;241m*\u001b[39m\u001b[38;5;241m=\u001b[39m factor\u001b[38;5;241m*\u001b[39m\u001b[38;5;241m*\u001b[39mlength\n",
      "\u001b[1;31mKeyboardInterrupt\u001b[0m: "
     ]
    }
   ],
   "source": [
    "NUM_STATES = 100 # size of the state space\n",
    "EPOCHS = 100 # number of epochs\n",
    "NUM_STEPS = 1000 # number of learning steps per episode\n",
    "\n",
    "steps = pdf_discrete_sample(pdf_func = pdf_powerlaw,\n",
    "                            beta = 1,\n",
    "                            L_max = NUM_STATES,  \n",
    "                            num_samples = (EPOCHS, NUM_STEPS))\n",
    "\n",
    "imitator = PS_imitation(num_states = NUM_STATES,\n",
    "                        eta = int(1e-7),\n",
    "                        gamma = 0)\n",
    "    \n",
    "                               \n",
    "for e in tqdm(range(EPOCHS)):\n",
    "    imitator.reset()\n",
    "    for s in steps[e]:    \n",
    "        imitator.update(length = s)\n"
   ]
  },
  {
   "cell_type": "code",
   "execution_count": null,
   "id": "standing-roberts",
   "metadata": {},
   "outputs": [],
   "source": [
    "NUM_STATES = 100 # size of the state space\n",
    "EPOCHS = 100 # number of epochs\n",
    "NUM_STEPS = 100 # number of learning steps per episode\n",
    "\n",
    "\n",
    "betas = [0.5, 1, 1.5, 2]\n",
    "hmatrix_pw = np.zeros((len(betas), 2, NUM_STATES))\n",
    "\n",
    "for idxb, beta in enumerate((betas)):\n",
    "    \n",
    "    steps = pdf_discrete_sample(pdf_func = pdf_powerlaw,\n",
    "                                beta = 1,\n",
    "                                L_max = NUM_STATES,  \n",
    "                                num_samples = (EPOCHS, NUM_STEPS))\n",
    "\n",
    "    imitator = PS_imitation(num_states = NUM_STATES,\n",
    "                            eta = int(1e-7),\n",
    "                            gamma = 0)\n",
    "\n",
    "\n",
    "    for e in (range(EPOCHS)):\n",
    "        imitator.reset()\n",
    "        for s in steps[e]:    \n",
    "            imitator.update(length = s)\n",
    "            \n",
    "    hmatrix_pw[idxb] = imitator.h_matrix"
   ]
  },
  {
   "cell_type": "markdown",
   "id": "opponent-bernard",
   "metadata": {},
   "source": [
    "BiExp"
   ]
  },
  {
   "cell_type": "code",
   "execution_count": null,
   "id": "e2ed1f3f-d90c-4588-bddc-948f8d8e62a3",
   "metadata": {},
   "outputs": [
    {
     "data": {
      "application/vnd.jupyter.widget-view+json": {
       "model_id": "ba62e67b7916447098f813164c6fa6ce",
       "version_major": 2,
       "version_minor": 0
      },
      "text/plain": [
       "  0%|          | 0/4 [00:00<?, ?it/s]"
      ]
     },
     "metadata": {},
     "output_type": "display_data"
    }
   ],
   "source": [
    "NUM_STATES = 100 # size of the state space\n",
    "EPOCHS = 100 # number of epochs\n",
    "NUM_STEPS = 100 # number of learning steps per episode\n",
    "\n",
    "\n",
    "probs = np.array([0.94, 0.06])\n",
    "lambdas = np.array([0.6, 5000])\n",
    "\n",
    "lambdas_1 = [0.6, 0.6*2, 0.6*8, 0.6*16]\n",
    "hmatrix_bi = np.zeros((len(lambdas_1), 2, NUM_STATES))\n",
    "\n",
    "for idx_l, lambda_1 in enumerate(tqdm(lambdas_1)):\n",
    "    \n",
    "    lambdas[0] = lambda_1\n",
    "    steps = pdf_discrete_sample(pdf_func = pdf_multimode,\n",
    "                                lambdas = lambdas,\n",
    "                                probs = probs,\n",
    "                                num_modes = 2,\n",
    "                                L_max = NUM_STATES,  \n",
    "                                num_samples = (EPOCHS, NUM_STEPS))\n",
    "\n",
    "    imitator = PS_imitation(num_states = NUM_STATES,\n",
    "                            eta = int(1e-7),\n",
    "                            gamma = 0)\n",
    "\n",
    "\n",
    "    for e in (range(EPOCHS)):\n",
    "        imitator.reset()\n",
    "        for s in steps[e]:    \n",
    "            imitator.update(length = s)\n",
    "            \n",
    "    hmatrix_bi[idx_l] = imitator.h_matrix"
   ]
  },
  {
   "cell_type": "code",
   "execution_count": null,
   "id": "c0a45661-09c7-49d4-91a9-0137e7c2c4fe",
   "metadata": {},
   "outputs": [
    {
     "ename": "NameError",
     "evalue": "name 'color' is not defined",
     "output_type": "error",
     "traceback": [
      "\u001b[1;31m---------------------------------------------------------------------------\u001b[0m",
      "\u001b[1;31mNameError\u001b[0m                                 Traceback (most recent call last)",
      "Cell \u001b[1;32mIn[16], line 11\u001b[0m\n\u001b[0;32m      6\u001b[0m     \u001b[38;5;28;01melse\u001b[39;00m: label \u001b[38;5;241m=\u001b[39m \u001b[38;5;124m'\u001b[39m\u001b[38;5;124m'\u001b[39m\n\u001b[0;32m      8\u001b[0m     theory \u001b[38;5;241m=\u001b[39m get_policy(n_max \u001b[38;5;241m=\u001b[39m NUM_STATES, \n\u001b[0;32m      9\u001b[0m                         func \u001b[38;5;241m=\u001b[39m pdf_powerlaw,\n\u001b[0;32m     10\u001b[0m                         beta \u001b[38;5;241m=\u001b[39m \u001b[38;5;241m1\u001b[39m,)\n\u001b[1;32m---> 11\u001b[0m     ax_pw\u001b[38;5;241m.\u001b[39mplot(np\u001b[38;5;241m.\u001b[39marange(\u001b[38;5;241m2\u001b[39m, NUM_STATES\u001b[38;5;241m+\u001b[39m\u001b[38;5;241m1\u001b[39m), theory[\u001b[38;5;241m1\u001b[39m:], c \u001b[38;5;241m=\u001b[39m \u001b[43mcolor\u001b[49m(idx))\n\u001b[0;32m     12\u001b[0m     ax_pw\u001b[38;5;241m.\u001b[39mplot(np\u001b[38;5;241m.\u001b[39marange(\u001b[38;5;241m2\u001b[39m, NUM_STATES\u001b[38;5;241m+\u001b[39m\u001b[38;5;241m2\u001b[39m), h[\u001b[38;5;241m0\u001b[39m,:]\u001b[38;5;241m/\u001b[39mh\u001b[38;5;241m.\u001b[39msum(\u001b[38;5;241m0\u001b[39m), \u001b[38;5;124m'\u001b[39m\u001b[38;5;124mo\u001b[39m\u001b[38;5;124m'\u001b[39m, \n\u001b[0;32m     13\u001b[0m                c \u001b[38;5;241m=\u001b[39m color(idx),  label \u001b[38;5;241m=\u001b[39m \u001b[38;5;124mfr\u001b[39m\u001b[38;5;124m'\u001b[39m\u001b[38;5;124m$\u001b[39m\u001b[38;5;124m\\\u001b[39m\u001b[38;5;124mbeta$ = \u001b[39m\u001b[38;5;132;01m{\u001b[39;00mbeta\u001b[38;5;132;01m}\u001b[39;00m\u001b[38;5;124m'\u001b[39m, alpha \u001b[38;5;241m=\u001b[39m \u001b[38;5;241m0.8\u001b[39m, markeredgecolor\u001b[38;5;241m=\u001b[39m\u001b[38;5;124m'\u001b[39m\u001b[38;5;124mNone\u001b[39m\u001b[38;5;124m'\u001b[39m, lw \u001b[38;5;241m=\u001b[39m \u001b[38;5;241m0.05\u001b[39m)\n\u001b[0;32m     15\u001b[0m \u001b[38;5;66;03m# plt.setp(ax_pw, xlim = (1.8, 30), ylim = (0.0, 1.01),\u001b[39;00m\n\u001b[0;32m     16\u001b[0m \u001b[38;5;66;03m#          xlabel =r'$l$', ylabel = r'$\\pi_s(l)$', \u001b[39;00m\n\u001b[0;32m     17\u001b[0m \u001b[38;5;66;03m#          yticks = np.round(np.arange(0.2, 1.01, 0.2),1),\u001b[39;00m\n\u001b[0;32m     18\u001b[0m \u001b[38;5;66;03m#          yticklabels = np.round(np.arange(0.2, 1.01, 0.2),1).astype(str),\u001b[39;00m\n\u001b[0;32m     19\u001b[0m \u001b[38;5;66;03m#          xscale = 'log')\u001b[39;00m\n",
      "\u001b[1;31mNameError\u001b[0m: name 'color' is not defined"
     ]
    },
    {
     "data": {
      "image/png": "[encoded data removed]",
      "text/plain": [
       "<Figure size 600x300 with 2 Axes>"
      ]
     },
     "metadata": {},
     "output_type": "display_data"
    }
   ],
   "source": [
    "fig, [ax_pw, ax_bi] = plt.subplots(1, 2, figsize = (6,3))\n",
    "\n",
    "############# Powerlaw #################\n",
    "for idx, (h, beta) in enumerate(zip(hmatrix_pw, betas)):\n",
    "    if idx == 0: label = 'Theory'\n",
    "    else: label = ''\n",
    "    \n",
    "    theory = get_policy(n_max = NUM_STATES, \n",
    "                        func = pdf_powerlaw,\n",
    "                        beta = 1,)\n",
    "    ax_pw.plot(np.arange(2, NUM_STATES+1), theory[1:], c = color(idx))\n",
    "    ax_pw.plot(np.arange(2, NUM_STATES+2), h[0,:]/h.sum(0), 'o', \n",
    "               c = color(idx),  label = fr'$\\beta$ = {beta}', alpha = 0.8, markeredgecolor='None', lw = 0.05)\n",
    "\n",
    "# plt.setp(ax_pw, xlim = (1.8, 30), ylim = (0.0, 1.01),\n",
    "#          xlabel =r'$l$', ylabel = r'$\\pi_s(l)$', \n",
    "#          yticks = np.round(np.arange(0.2, 1.01, 0.2),1),\n",
    "#          yticklabels = np.round(np.arange(0.2, 1.01, 0.2),1).astype(str),\n",
    "#          xscale = 'log')\n",
    "\n",
    "ax_pw.plot(10, 10, label = 'Theory', c = 'k')   \n",
    "ax_pw.legend(fontsize = font_legend)\n",
    "   \n",
    "    "
   ]
  },
  {
   "cell_type": "code",
   "execution_count": null,
   "id": "75998e49-00b2-43dc-972c-d99c5458d5b4",
   "metadata": {},
   "outputs": [
    {
     "ename": "TypeError",
     "evalue": "get_policy() missing 1 required positional argument: 'func'",
     "output_type": "error",
     "traceback": [
      "\u001b[1;31m---------------------------------------------------------------------------\u001b[0m",
      "\u001b[1;31mTypeError\u001b[0m                                 Traceback (most recent call last)",
      "Cell \u001b[1;32mIn[12], line 8\u001b[0m\n\u001b[0;32m      5\u001b[0m \u001b[38;5;28;01mif\u001b[39;00m idx \u001b[38;5;241m==\u001b[39m \u001b[38;5;241m0\u001b[39m: label \u001b[38;5;241m=\u001b[39m \u001b[38;5;124m'\u001b[39m\u001b[38;5;124mTheory\u001b[39m\u001b[38;5;124m'\u001b[39m\n\u001b[0;32m      6\u001b[0m \u001b[38;5;28;01melse\u001b[39;00m: label \u001b[38;5;241m=\u001b[39m \u001b[38;5;124m'\u001b[39m\u001b[38;5;124m'\u001b[39m\n\u001b[1;32m----> 8\u001b[0m theory \u001b[38;5;241m=\u001b[39m \u001b[43mget_policy\u001b[49m\u001b[43m(\u001b[49m\u001b[43mn_max\u001b[49m\u001b[43m \u001b[49m\u001b[38;5;241;43m=\u001b[39;49m\u001b[43m \u001b[49m\u001b[43mNUM_STATES\u001b[49m\u001b[43m,\u001b[49m\u001b[43m \u001b[49m\n\u001b[0;32m      9\u001b[0m \u001b[43m                    \u001b[49m\u001b[43mpdf_func\u001b[49m\u001b[43m \u001b[49m\u001b[38;5;241;43m=\u001b[39;49m\u001b[43m \u001b[49m\u001b[43mpdf_powerlaw\u001b[49m\u001b[43m,\u001b[49m\n\u001b[0;32m     10\u001b[0m \u001b[43m                    \u001b[49m\u001b[43mbeta\u001b[49m\u001b[43m \u001b[49m\u001b[38;5;241;43m=\u001b[39;49m\u001b[43m \u001b[49m\u001b[38;5;241;43m1\u001b[39;49m\u001b[43m,\u001b[49m\n\u001b[0;32m     11\u001b[0m \u001b[43m                    \u001b[49m\u001b[43mL_max\u001b[49m\u001b[43m \u001b[49m\u001b[38;5;241;43m=\u001b[39;49m\u001b[43m \u001b[49m\u001b[43mNUM_STATES\u001b[49m\u001b[43m)\u001b[49m\n\u001b[0;32m     12\u001b[0m ax_pw\u001b[38;5;241m.\u001b[39mplot(np\u001b[38;5;241m.\u001b[39marange(\u001b[38;5;241m2\u001b[39m, num_states\u001b[38;5;241m+\u001b[39m\u001b[38;5;241m1\u001b[39m), theory[\u001b[38;5;241m1\u001b[39m:], c \u001b[38;5;241m=\u001b[39m color(idx))\n\u001b[0;32m     13\u001b[0m ax_pw\u001b[38;5;241m.\u001b[39mplot(np\u001b[38;5;241m.\u001b[39marange(\u001b[38;5;241m2\u001b[39m, num_states\u001b[38;5;241m+\u001b[39m\u001b[38;5;241m2\u001b[39m), h[\u001b[38;5;241m0\u001b[39m,:]\u001b[38;5;241m/\u001b[39mh\u001b[38;5;241m.\u001b[39msum(\u001b[38;5;241m0\u001b[39m), \u001b[38;5;124m'\u001b[39m\u001b[38;5;124mo\u001b[39m\u001b[38;5;124m'\u001b[39m, \n\u001b[0;32m     14\u001b[0m            c \u001b[38;5;241m=\u001b[39m color(idx),  label \u001b[38;5;241m=\u001b[39m \u001b[38;5;124mfr\u001b[39m\u001b[38;5;124m'\u001b[39m\u001b[38;5;124m$\u001b[39m\u001b[38;5;124m\\\u001b[39m\u001b[38;5;124mbeta$ = \u001b[39m\u001b[38;5;132;01m{\u001b[39;00mbeta\u001b[38;5;132;01m}\u001b[39;00m\u001b[38;5;124m'\u001b[39m, alpha \u001b[38;5;241m=\u001b[39m \u001b[38;5;241m0.8\u001b[39m, markeredgecolor\u001b[38;5;241m=\u001b[39m\u001b[38;5;124m'\u001b[39m\u001b[38;5;124mNone\u001b[39m\u001b[38;5;124m'\u001b[39m, lw \u001b[38;5;241m=\u001b[39m \u001b[38;5;241m0.05\u001b[39m)\n",
      "\u001b[1;31mTypeError\u001b[0m: get_policy() missing 1 required positional argument: 'func'"
     ]
    },
    {
     "data": {
      "image/png": "[encoded data removed]",
      "text/plain": [
       "<Figure size 600x300 with 2 Axes>"
      ]
     },
     "metadata": {},
     "output_type": "display_data"
    }
   ],
   "source": [
    "############# BiExp #################\n",
    "for idx, (lambda_1, h) in enumerate(zip(lambdas_1, hmatrix_bi)):    \n",
    "    lambdas[0] = lambda_1    \n",
    "    ps_composite = get_ps_composite(num_states, lambdas = lambdas, probs = probs)\n",
    "    ax_bi.plot(np.arange(2, num_states+1), ps_composite[1:], '-', \n",
    "               c = color(idx))    \n",
    "    ax_bi.plot(np.arange(2, num_states+2), h, 'o',               \n",
    "               c = color(idx),  label = fr'$d_1$ = {np.round(lambda_1,1)}', alpha = 0.8, markeredgecolor='None')\n",
    "\n",
    "ax_bi.plot(10, 10, label = 'Theory', c = 'k')   \n",
    "ax_bi.legend(fontsize = font_legend)\n",
    "    \n",
    "    \n",
    "plt.setp(ax_pw, xlabel =r'$n$', ylabel = r'$\\pi(\\uparrow|N)$', xscale = 'log')\n",
    "plt.setp([ax_pw, ax_bi], xlim = (1.6, 30), ylim = (0.1, 1.049972989855765)) ;\n",
    "plt.setp(ax_bi, ylabel = '', xlabel = r'$n$', yticklabels = [], xscale = 'log');"
   ]
  },
  {
   "cell_type": "markdown",
   "id": "unexpected-print",
   "metadata": {},
   "source": [
    "## Fig Cutoff"
   ]
  },
  {
   "cell_type": "code",
   "execution_count": null,
   "id": "composed-preservation",
   "metadata": {},
   "outputs": [
    {
     "data": {
      "application/vnd.jupyter.widget-view+json": {
       "model_id": "9b57fa87e4df44df9e4fd57955014532",
       "version_major": 2,
       "version_minor": 0
      },
      "text/plain": [
       "  0%|          | 0/5 [00:00<?, ?it/s]"
      ]
     },
     "metadata": {},
     "output_type": "display_data"
    }
   ],
   "source": [
    "probs = np.array([0.94, 0.06])\n",
    "lambdas = np.array([0.6, 5000])\n",
    "# Get theoretical policy\n",
    "theory_cutoff = get_ps_composite(L = num_states, lambdas = lambdas, probs = probs)\n",
    "\n",
    "\n",
    "# Setting a max step length\n",
    "L_cutoffs = [30, 150, 500, 2000, 10000]\n",
    "\n",
    "steps_og = discrete_composite_sample(lambdas = lambdas, probs = probs, L_max = num_states, num_samples = num_steps*epochs)\n",
    "\n",
    "\n",
    "hmatrix_co = np.zeros((len(L_cutoffs), num_states))\n",
    "for idx_c, L_cutoff in enumerate(tqdm(L_cutoffs)):\n",
    "    # L_cutoff *= num_states\n",
    "\n",
    "    steps = steps_og.copy()\n",
    "    while np.max(steps) > L_cutoff:\n",
    "            steps[steps > L_cutoff] = discrete_composite_sample(lambdas = lambdas, \n",
    "                                                                probs = probs,\n",
    "                                                                L_max = num_states, num_samples = len(steps[steps > L_cutoff]))\n",
    "    steps = steps.reshape(epochs, num_steps)\n",
    "    ps = simul_2actions(num_states = num_states,\n",
    "                    eta = int(1e-7),\n",
    "                    gamma = 0)\n",
    "    # Training\n",
    "    for e in (range(epochs)):\n",
    "        ps.reset()\n",
    "        for s in steps[e]:         \n",
    "            ps.reward(length = s)\n",
    "    # Saving\n",
    "    hmatrix_co[idx_c] = ps.h_matrix[0]/ps.h_matrix.sum(0)\n"
   ]
  },
  {
   "cell_type": "code",
   "execution_count": null,
   "id": "inner-object",
   "metadata": {},
   "outputs": [
    {
     "data": {
      "text/plain": [
       "[Text(0.5, 0, '$n$'), Text(0, 0.5, '$\\\\pi(\\\\uparrow|N)$'), None]"
      ]
     },
     "execution_count": null,
     "metadata": {},
     "output_type": "execute_result"
    },
    {
     "data": {
      "image/png": "[encoded data removed]",
      "text/plain": [
       "<Figure size 432x216 with 1 Axes>"
      ]
     },
     "metadata": {
      "needs_background": "light"
     },
     "output_type": "display_data"
    }
   ],
   "source": [
    "fig, ax_co = plt.subplots(figsize = (6, 3))\n",
    "\n",
    "############# Cutoff #################\n",
    "for idx, (h, L_cutoff) in enumerate(zip(hmatrix_co, L_cutoffs)):   \n",
    "    ax_co.plot(np.arange(2, num_states+2), h, 'o',               \n",
    "               c = color(idx, num_c=5),  label = r'$L_{max}$ = '+f'{L_cutoff}', alpha = 0.8, markeredgecolor='None', rasterized=True)\n",
    "    ax_co.plot(np.arange(2, num_states+2), h,                \n",
    "               c = color(idx, num_c=5),  alpha = 0.2)\n",
    "\n",
    "ax_co.plot(np.arange(2, num_states+1), theory_cutoff[1:], '-', c = 'k', alpha = 0.8, label = r'$L_{max}\\rightarrow \\infty$') \n",
    "\n",
    "plt.legend(fontsize = font_legend,  loc = 'lower right')\n",
    "\n",
    "########### Shared ################\n",
    "    \n",
    "plt.setp(ax_co, xlabel =r'$n$', ylabel = r'$\\pi(\\uparrow|N)$', xscale = 'log')\n",
    "\n",
    "\n",
    "# ax_pw.set_title('a) Power law', fontsize = font_legend)\n",
    "# ax_bi.set_title('b) Bi-exponential', fontsize = font_legend)\n",
    "# ax_co.set_title('Power law')\n",
    "\n",
    "# for a, let in zip([ax_pw, ax_bi, ax_co], 'abc'):\n",
    "#     a.annotate(let+')', xy = (0.02, 0.92),  fontsize = 12, xycoords = 'axes fraction') ;\n",
    "    \n",
    "#fig.savefig('../../../overleaf/optimal_rl/figures/fake_training_cutoff.pdf', transparent = True, bbox_inches = 'tight', pad_inches = 0)"
   ]
  }
 ],
 "metadata": {
  "kernelspec": {
   "display_name": "optimal_rl",
   "language": "python",
   "name": "optimal_rl"
  }
 },
 "nbformat": 4,
 "nbformat_minor": 5
}
