{
 "cells": [
  {
   "cell_type": "code",
   "execution_count": null,
   "id": "f75b7aa8-ee78-4d9b-b86a-cd1d07f5d9d7",
   "metadata": {},
   "outputs": [],
   "source": [
    "#|default_exp utils"
   ]
  },
  {
   "cell_type": "code",
   "execution_count": null,
   "id": "56f2268e-0c7b-4321-b2fb-9f423e553d82",
   "metadata": {},
   "outputs": [],
   "source": [
    "#| export\n",
    "import matplotlib.pyplot as plt\n",
    "import matplotlib.colors as mcolors\n",
    "\n",
    "def add_colorbar(vec, ax, fig, label):\n",
    "    normalize = mcolors.Normalize(vmin=vec.min(), vmax=vec.max())\n",
    "    colormap = plt.cm.plasma\n",
    "    scalarmappaple = plt.cm.ScalarMappable(norm=normalize, cmap=colormap)\n",
    "    scalarmappaple.set_array(vec)\n",
    "    cbar = fig.colorbar(scalarmappaple, ax = ax)\n",
    "    cbar.set_label(label)"
   ]
  },
  {
   "cell_type": "code",
   "execution_count": null,
   "id": "ab13552b-5ff1-4d63-9b6c-a0be0b960c3c",
   "metadata": {},
   "outputs": [],
   "source": [
    "from nbdev import nbdev_export;nbdev_export()"
   ]
  }
 ],
 "metadata": {
  "kernelspec": {
   "display_name": "optimal_rl",
   "language": "python",
   "name": "optimal_rl"
  }
 },
 "nbformat": 4,
 "nbformat_minor": 5
}
