{
 "cells": [
  {
   "cell_type": "code",
   "execution_count": null,
   "id": "focused-edinburgh",
   "metadata": {},
   "outputs": [],
   "source": [
    "#| default_exp imitation"
   ]
  },
  {
   "cell_type": "markdown",
   "id": "9aa6e156-b868-4b52-bbc4-945d63b82d97",
   "metadata": {},
   "source": [
    "# Imitation learning"
   ]
  },
  {
   "cell_type": "code",
   "execution_count": null,
   "id": "limited-malpractice",
   "metadata": {},
   "outputs": [],
   "source": [
    "#| export \n",
    "import numpy as np"
   ]
  },
  {
   "cell_type": "code",
   "execution_count": null,
   "id": "regular-detection",
   "metadata": {},
   "outputs": [],
   "source": [
    "#| hide\n",
    "from nbdev import show_doc\n",
    "%load_ext autoreload\n",
    "%autoreload 2"
   ]
  },
  {
   "cell_type": "code",
   "execution_count": null,
   "id": "passing-brief",
   "metadata": {},
   "outputs": [],
   "source": [
    "#| export\n",
    "\n",
    "class PS_imitation():\n",
    "    def __init__(self, \n",
    "                 num_states: int, # Number of states \n",
    "                 eta: float, # Glow parameter of PS\n",
    "                 gamma: float # Damping parameter of PS\n",
    "                ):     \n",
    "        '''Constructs a PS agent with two actions (continue and rotate) that performs imitation learning \n",
    "        in the search scenario. Instead of following a full trajectory of action-state tuples, the agent \n",
    "        is directly given the reward state (the step length in this case). The agent updates all previous\n",
    "        continue actions and the current rotate action.        \n",
    "        '''\n",
    "        \n",
    "        self.num_states = num_states        \n",
    "        self.eta = eta\n",
    "        self.gamma_damping = gamma\n",
    "        \n",
    "        # h-matrix\n",
    "        self.h_matrix = np.ones((2, self.num_states)).astype(float)\n",
    "        # initiate glow matrix\n",
    "        self.reset()\n",
    "        \n",
    "    def reset(self):\n",
    "        '''Resets the glow matrix'''\n",
    "        self.g_matrix = np.zeros((2, self.num_states)).astype(float)        \n",
    "        \n",
    "        \n",
    "    def update(self, \n",
    "               length: int, # Step length rewarded\n",
    "               reward: int = 1 # Value of the reward\n",
    "              ):\n",
    "        '''\n",
    "        Updates the policy based on the imitation scheme (see paper for detailes)      \n",
    "        NOTE: state is length-1 because counter starts in 0 \n",
    "        (but in 0, agent has already performed a step of length 1 -- from the previous action \"rotate\").\n",
    "        '''\n",
    "\n",
    "        factor = 1 - self.eta\n",
    "        # ---- Updating the CONTINUE part of g-matrix ---- \n",
    "        # Damping before adding up the traversed edges.\n",
    "        self.g_matrix[0, :length-1] *= (factor**np.arange(1,length))\n",
    "        # Set to one all previous states (adding up the traversed edges)\n",
    "        self.g_matrix[0, :length-1] += 1   \n",
    "        # Multiply by eta**x all previous states\n",
    "        self.g_matrix[0, :length-1] *= (factor**np.arange(1,length))[::-1]\n",
    "        # Multiply the rest of the matrix by number of steps don\n",
    "        self.g_matrix[0, length-1:] *= factor**length\n",
    "\n",
    "        # ---- Updating the TURN part of g-matrix ---- \n",
    "        self.g_matrix[1, :] *= factor**length\n",
    "        self.g_matrix[1, length-1] += 1\n",
    "\n",
    "        # Apply damping\n",
    "        if self.gamma_damping > 0:\n",
    "            for _ in range(length):\n",
    "                self.h_matrix -= self.gamma_damping*(self.h_matrix - 1.)\n",
    "\n",
    "        # Apply reward\n",
    "        self.h_matrix += self.g_matrix*reward"
   ]
  },
  {
   "cell_type": "code",
   "execution_count": null,
   "id": "regulation-expert",
   "metadata": {},
   "outputs": [
    {
     "data": {
      "text/markdown": [
       "---\n",
       "\n",
       "### PS_imitation.update\n",
       "\n",
       ">      PS_imitation.update (length:int, reward:int=1)\n",
       "\n",
       "Updates the policy based on the imitation scheme (see paper for detailes)      \n",
       "NOTE: state is length-1 because counter starts in 0 \n",
       "(but in 0, agent has already performed a step of length 1 -- from the previous action \"rotate\").\n",
       "\n",
       "|    | **Type** | **Default** | **Details** |\n",
       "| -- | -------- | ----------- | ----------- |\n",
       "| length | int |  | Step length rewarded |\n",
       "| reward | int | 1 | Value of the reward |"
      ],
      "text/plain": [
       "---\n",
       "\n",
       "### PS_imitation.update\n",
       "\n",
       ">      PS_imitation.update (length:int, reward:int=1)\n",
       "\n",
       "Updates the policy based on the imitation scheme (see paper for detailes)      \n",
       "NOTE: state is length-1 because counter starts in 0 \n",
       "(but in 0, agent has already performed a step of length 1 -- from the previous action \"rotate\").\n",
       "\n",
       "|    | **Type** | **Default** | **Details** |\n",
       "| -- | -------- | ----------- | ----------- |\n",
       "| length | int |  | Step length rewarded |\n",
       "| reward | int | 1 | Value of the reward |"
      ]
     },
     "execution_count": null,
     "metadata": {},
     "output_type": "execute_result"
    }
   ],
   "source": [
    "show_doc(PS_imitation.update)"
   ]
  },
  {
   "cell_type": "markdown",
   "id": "widespread-armstrong",
   "metadata": {},
   "source": [
    "## Example\n",
    "We showcase how to imitate the policy based on a given step length distribution, an in particular of a Lévy distribution. For further examples, see the Tutorials section."
   ]
  },
  {
   "cell_type": "code",
   "execution_count": null,
   "id": "312fad72-c7f2-47b7-bc7f-7b71e64318a7",
   "metadata": {},
   "outputs": [],
   "source": [
    "from rl_opts.analytics import pdf_powerlaw, pdf_discrete_sample, get_policy_from_dist\n",
    "from tqdm import tqdm\n",
    "import matplotlib.pyplot as plt"
   ]
  },
  {
   "cell_type": "code",
   "execution_count": null,
   "id": "headed-model",
   "metadata": {},
   "outputs": [
    {
     "name": "stderr",
     "output_type": "stream",
     "text": [
      "100%|████████████████████████████████████████████████████████████████████████████████| 100/100 [00:01<00:00, 53.18it/s]\n"
     ]
    }
   ],
   "source": [
    "NUM_STATES = 100 # size of the state space\n",
    "EPOCHS = 100 # number of epochs\n",
    "NUM_STEPS = 1000 # number of learning steps per episode\n",
    "\n",
    "steps = pdf_discrete_sample(pdf_func = pdf_powerlaw,\n",
    "                            beta = 1,\n",
    "                            L_max = NUM_STATES,  \n",
    "                            num_samples = (EPOCHS, NUM_STEPS))\n",
    "\n",
    "imitator = PS_imitation(num_states = NUM_STATES,\n",
    "                        eta = int(1e-7),\n",
    "                        gamma = 0)\n",
    "    \n",
    "                               \n",
    "for e in tqdm(range(EPOCHS)):\n",
    "    imitator.reset()\n",
    "    for s in steps[e]:    \n",
    "        imitator.update(length = s)\n"
   ]
  },
  {
   "cell_type": "code",
   "execution_count": null,
   "id": "amazing-carter",
   "metadata": {},
   "outputs": [],
   "source": [
    "policy_theory = get_policy_from_dist(n_max = NUM_STATES,\n",
    "                                     func = pdf_powerlaw,\n",
    "                                     beta = 1)\n",
    "policy_imitat = imitator.h_matrix[0,:]/imitator.h_matrix.sum(0)"
   ]
  },
  {
   "cell_type": "code",
   "execution_count": null,
   "id": "sufficient-colorado",
   "metadata": {},
   "outputs": [
    {
     "data": {
      "image/png": "[encoded data removed]",
      "text/plain": [
       "<Figure size 500x300 with 1 Axes>"
      ]
     },
     "metadata": {},
     "output_type": "display_data"
    }
   ],
   "source": [
    "_ , ax = plt.subplots(figsize = (5,3))\n",
    "ax.plot(policy_imitat ,'o')\n",
    "ax.plot(policy_theory[1:])\n",
    "plt.setp(ax, \n",
    "         xscale = 'log', xlim = (0.9, NUM_STATES/2), xlabel = r'Counter $n$',\n",
    "         ylim = (0.5, 1.1), ylabel = 'Policy');"
   ]
  },
  {
   "cell_type": "markdown",
   "id": "ee117c39-a16d-49e2-bca3-c5c13610cee3",
   "metadata": {},
   "source": [
    "#| hide\n",
    "# nbdev"
   ]
  },
  {
   "cell_type": "code",
   "execution_count": null,
   "id": "e9ad3b68-c453-42c5-8650-df72d03f880f",
   "metadata": {},
   "outputs": [],
   "source": [
    "#| hide\n",
    "from nbdev import nbdev_export ; nbdev_export()"
   ]
  }
 ],
 "metadata": {
  "kernelspec": {
   "display_name": "optimal_search",
   "language": "python",
   "name": "optimal_search"
  },
  "language_info": {
   "codemirror_mode": {
    "name": "ipython",
    "version": 3
   },
   "file_extension": ".py",
   "mimetype": "text/x-python",
   "name": "python",
   "nbconvert_exporter": "python",
   "pygments_lexer": "ipython3",
   "version": "3.10.8"
  }
 },
 "nbformat": 4,
 "nbformat_minor": 5
}
