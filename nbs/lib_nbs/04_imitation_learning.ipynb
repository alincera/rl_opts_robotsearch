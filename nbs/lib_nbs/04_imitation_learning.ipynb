{
 "cells": [
  {
   "cell_type": "code",
   "execution_count": null,
   "id": "a4d67c96",
   "metadata": {},
   "outputs": [],
   "source": [
    "#| default_exp imitation"
   ]
  },
  {
   "cell_type": "markdown",
   "id": "3c616c25",
   "metadata": {},
   "source": [
    "# Imitation learning"
   ]
  },
  {
   "cell_type": "code",
   "execution_count": null,
   "id": "27ec6445",
   "metadata": {},
   "outputs": [],
   "source": [
    "#| export \n",
    "import numpy as np"
   ]
  },
  {
   "cell_type": "code",
   "execution_count": null,
   "id": "30f950e5",
   "metadata": {},
   "outputs": [],
   "source": [
    "#| hide\n",
    "from nbdev import show_doc\n",
    "%load_ext autoreload\n",
    "%autoreload 2"
   ]
  },
  {
   "cell_type": "code",
   "execution_count": null,
   "id": "5662d82c",
   "metadata": {},
   "outputs": [],
   "source": [
    "#| export\n",
    "\n",
    "class PS_imitation():\n",
    "    def __init__(self, \n",
    "                 num_states: int, # Number of states \n",
    "                 eta: float, # Glow parameter of PS\n",
    "                 gamma: float # Damping parameter of PS\n",
    "                ):     \n",
    "        '''Constructs a PS agent with two actions (continue and rotate) that performs imitation learning \n",
    "        in the search scenario. Instead of following a full trajectory of action-state tuples, the agent \n",
    "        is directly given the reward state (the step length in this case). The agent updates all previous\n",
    "        continue actions and the current rotate action.        \n",
    "        '''\n",
    "        \n",
    "        self.num_states = num_states        \n",
    "        self.eta = eta\n",
    "        self.gamma_damping = gamma\n",
    "        \n",
    "        # h-matrix\n",
    "        self.h_matrix = np.ones((2, self.num_states)).astype(float)\n",
    "        # initiate glow matrix\n",
    "        self.reset()\n",
    "        \n",
    "    def reset(self):\n",
    "        '''Resets the glow matrix'''\n",
    "        self.g_matrix = np.zeros((2, self.num_states)).astype(float)        \n",
    "        \n",
    "        \n",
    "    def update(self, \n",
    "               length: int, # Step length rewarded\n",
    "               reward: int = 1 # Value of the reward\n",
    "              ):\n",
    "        '''\n",
    "        Updates the policy based on the imitation scheme (see paper for detailes)      \n",
    "        NOTE: state is length-1 because counter starts in 0 \n",
    "        (but in 0, agent has already performed a step of length 1 -- from the previous action \"rotate\").\n",
    "        '''\n",
    "\n",
    "        factor = 1 - self.eta\n",
    "        # ---- Updating the CONTINUE part of g-matrix ---- \n",
    "        # Damping before adding up the traversed edges.\n",
    "        self.g_matrix[0, :length-1] *= (factor**np.arange(1,length))\n",
    "        # Set to one all previous states (adding up the traversed edges)\n",
    "        self.g_matrix[0, :length-1] += 1   \n",
    "        # Multiply by eta**x all previous states\n",
    "        self.g_matrix[0, :length-1] *= (factor**np.arange(1,length))[::-1]\n",
    "        # Multiply the rest of the matrix by number of steps don\n",
    "        self.g_matrix[0, length-1:] *= factor**length\n",
    "\n",
    "        # ---- Updating the TURN part of g-matrix ---- \n",
    "        self.g_matrix[1, :] *= factor**length\n",
    "        self.g_matrix[1, length-1] += 1\n",
    "\n",
    "        # Apply damping\n",
    "        if self.gamma_damping > 0:\n",
    "            for _ in range(length):\n",
    "                self.h_matrix -= self.gamma_damping*(self.h_matrix - 1.)\n",
    "\n",
    "        # Apply reward\n",
    "        self.h_matrix += self.g_matrix*reward"
   ]
  },
  {
   "cell_type": "code",
   "execution_count": null,
   "id": "0cc44764",
   "metadata": {},
   "outputs": [
    {
     "data": {
      "text/markdown": [
       "---\n",
       "\n",
       "### PS_imitation.update\n",
       "\n",
       ">      PS_imitation.update (length:int, reward:int=1)\n",
       "\n",
       "Updates the policy based on the imitation scheme (see paper for detailes)      \n",
       "NOTE: state is length-1 because counter starts in 0 \n",
       "(but in 0, agent has already performed a step of length 1 -- from the previous action \"rotate\").\n",
       "\n",
       "|    | **Type** | **Default** | **Details** |\n",
       "| -- | -------- | ----------- | ----------- |\n",
       "| length | int |  | Step length rewarded |\n",
       "| reward | int | 1 | Value of the reward |"
      ],
      "text/plain": [
       "---\n",
       "\n",
       "### PS_imitation.update\n",
       "\n",
       ">      PS_imitation.update (length:int, reward:int=1)\n",
       "\n",
       "Updates the policy based on the imitation scheme (see paper for detailes)      \n",
       "NOTE: state is length-1 because counter starts in 0 \n",
       "(but in 0, agent has already performed a step of length 1 -- from the previous action \"rotate\").\n",
       "\n",
       "|    | **Type** | **Default** | **Details** |\n",
       "| -- | -------- | ----------- | ----------- |\n",
       "| length | int |  | Step length rewarded |\n",
       "| reward | int | 1 | Value of the reward |"
      ]
     },
     "execution_count": null,
     "metadata": {},
     "output_type": "execute_result"
    }
   ],
   "source": [
    "show_doc(PS_imitation.update)"
   ]
  },
  {
   "cell_type": "markdown",
   "id": "70dc9190",
   "metadata": {},
   "source": [
    "## Example\n",
    "We showcase how to imitate the policy based on a given step length distribution, an in particular of a Lévy distribution. For further examples, see the Tutorials section."
   ]
  },
  {
   "cell_type": "code",
   "execution_count": null,
   "id": "48353058",
   "metadata": {},
   "outputs": [],
   "source": [
    "from rl_opts.analytics import pdf_powerlaw, pdf_discrete_sample, get_policy_from_dist\n",
    "from tqdm import tqdm\n",
    "import matplotlib.pyplot as plt\n",
    "import numpy as np"
   ]
  },
  {
   "cell_type": "code",
   "execution_count": null,
   "id": "4b75d866",
   "metadata": {},
   "outputs": [
    {
     "name": "stderr",
     "output_type": "stream",
     "text": [
      "100%|██████████| 100/100 [00:01<00:00, 86.11it/s]\n"
     ]
    }
   ],
   "source": [
    "NUM_STATES = 100 # size of the state space\n",
    "EPOCHS = 100 # number of epochs\n",
    "NUM_STEPS = 1000 # number of learning steps per episode\n",
    "\n",
    "steps = pdf_discrete_sample(pdf_func = pdf_powerlaw,\n",
    "                            beta = 1,\n",
    "                            L = np.arange(1, NUM_STATES),  \n",
    "                            num_samples = (EPOCHS, NUM_STEPS))\n",
    "\n",
    "imitator = PS_imitation(num_states = NUM_STATES,\n",
    "                        eta = int(1e-7),\n",
    "                        gamma = 0)\n",
    "    \n",
    "                               \n",
    "for e in tqdm(range(EPOCHS)):\n",
    "    imitator.reset()\n",
    "    for s in steps[e]:    \n",
    "        imitator.update(length = s)\n"
   ]
  },
  {
   "cell_type": "code",
   "execution_count": null,
   "id": "6fcb63d5",
   "metadata": {},
   "outputs": [],
   "source": [
    "policy_theory = get_policy_from_dist(n_max = NUM_STATES,\n",
    "                                     func = pdf_powerlaw,\n",
    "                                     beta = 1)\n",
    "policy_imitat = imitator.h_matrix[0,:]/imitator.h_matrix.sum(0)"
   ]
  },
  {
   "cell_type": "code",
   "execution_count": null,
   "id": "0cdb2b66",
   "metadata": {},
   "outputs": [
    {
     "data": {
      "image/png": "[encoded data removed]",
      "text/plain": [
       "<Figure size 500x300 with 1 Axes>"
      ]
     },
     "metadata": {},
     "output_type": "display_data"
    }
   ],
   "source": [
    "_ , ax = plt.subplots(figsize = (5,3))\n",
    "ax.plot(policy_imitat ,'o')\n",
    "ax.plot(np.arange(1, NUM_STATES), policy_theory[1:])\n",
    "plt.setp(ax, \n",
    "         xscale = 'log', xlim = (0.9, NUM_STATES/2), xlabel = r'Counter $n$',\n",
    "         ylim = (0.5, 1.1), ylabel = 'Policy');"
   ]
  },
  {
   "cell_type": "markdown",
   "id": "6b7ec0d1",
   "metadata": {},
   "source": [
    "#| hide\n",
    "# nbdev"
   ]
  },
  {
   "cell_type": "code",
   "execution_count": null,
   "id": "c7f9320e",
   "metadata": {},
   "outputs": [],
   "source": [
    "#| hide\n",
    "from nbdev import nbdev_export ; nbdev_export()"
   ]
  }
 ],
 "metadata": {
  "kernelspec": {
   "display_name": "rl_opts",
   "language": "python",
   "name": "rl_opts"
  }
 },
 "nbformat": 4,
 "nbformat_minor": 5
}
