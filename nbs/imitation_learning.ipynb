{
 "cells": [
  {
   "cell_type": "markdown",
   "id": "508960d9-9c52-491c-bb52-655d5f42a665",
   "metadata": {},
   "source": [
    "# Figure paper fake-training"
   ]
  },
  {
   "cell_type": "code",
   "execution_count": null,
   "id": "356b3dda-57af-4bf7-a965-4d3545f806eb",
   "metadata": {},
   "outputs": [
    {
     "name": "stdout",
     "output_type": "stream",
     "text": [
      "Package           Version   Editable project location\n",
      "----------------- --------- ---------------------------------------\n",
      "asttokens         2.0.5\n",
      "astunparse        1.6.3\n",
      "backcall          0.2.0\n",
      "certifi           2022.12.7\n",
      "colorama          0.4.6\n",
      "comm              0.1.2\n",
      "contourpy         1.0.7\n",
      "cycler            0.11.0\n",
      "debugpy           1.5.1\n",
      "decorator         5.1.1\n",
      "entrypoints       0.4\n",
      "execnb            0.1.5\n",
      "executing         0.8.3\n",
      "fastcore          1.5.28\n",
      "fonttools         4.38.0\n",
      "ghapi             1.0.3\n",
      "ipykernel         6.19.2\n",
      "ipython           8.10.0\n",
      "jedi              0.18.1\n",
      "jupyter_client    7.4.9\n",
      "jupyter_core      5.2.0\n",
      "kiwisolver        1.4.4\n",
      "matplotlib        3.7.0\n",
      "matplotlib-inline 0.1.6\n",
      "nbdev             2.3.12\n",
      "nest-asyncio      1.5.6\n",
      "numpy             1.24.2\n",
      "packaging         22.0\n",
      "parso             0.8.3\n",
      "pickleshare       0.7.5\n",
      "Pillow            9.4.0\n",
      "pip               22.3.1\n",
      "platformdirs      2.5.2\n",
      "prompt-toolkit    3.0.36\n",
      "psutil            5.9.0\n",
      "pure-eval         0.2.2\n",
      "Pygments          2.11.2\n",
      "pyparsing         3.0.9\n",
      "python-dateutil   2.8.2\n",
      "pywin32           305.1\n",
      "PyYAML            6.0\n",
      "pyzmq             23.2.0\n",
      "rl-foraging       0.0.1     c:\\users\\gorka\\github\\rl_optimal_search\n",
      "rl-optimal-search 0.0.1     c:\\users\\gorka\\github\\rl_optimal_search\n",
      "scipy             1.10.1\n",
      "setuptools        65.6.3\n",
      "six               1.16.0\n",
      "stack-data        0.2.0\n",
      "tornado           6.2\n",
      "tqdm              4.64.1\n",
      "traitlets         5.7.1\n",
      "watchdog          2.2.1\n",
      "wcwidth           0.2.5\n",
      "wheel             0.38.4\n",
      "wincertstore      0.2\n",
      "Note: you may need to restart the kernel to use updated packages.\n"
     ]
    }
   ],
   "source": [
    "pip list"
   ]
  },
  {
   "cell_type": "code",
   "execution_count": null,
   "id": "81ec0013-5a7a-469d-b9e3-bbc2c042d5fb",
   "metadata": {},
   "outputs": [
    {
     "ename": "ModuleNotFoundError",
     "evalue": "No module named 'rl_foraging'",
     "output_type": "error",
     "traceback": [
      "\u001b[1;31m---------------------------------------------------------------------------\u001b[0m",
      "\u001b[1;31mModuleNotFoundError\u001b[0m                       Traceback (most recent call last)",
      "Cell \u001b[1;32mIn[1], line 5\u001b[0m\n\u001b[0;32m      2\u001b[0m \u001b[38;5;28;01mimport\u001b[39;00m \u001b[38;5;21;01mmatplotlib\u001b[39;00m\u001b[38;5;21;01m.\u001b[39;00m\u001b[38;5;21;01mpyplot\u001b[39;00m \u001b[38;5;28;01mas\u001b[39;00m \u001b[38;5;21;01mplt\u001b[39;00m\n\u001b[0;32m      3\u001b[0m \u001b[38;5;28;01mfrom\u001b[39;00m \u001b[38;5;21;01mtqdm\u001b[39;00m\u001b[38;5;21;01m.\u001b[39;00m\u001b[38;5;21;01mnotebook\u001b[39;00m \u001b[38;5;28;01mimport\u001b[39;00m tqdm\n\u001b[1;32m----> 5\u001b[0m \u001b[38;5;28;01mfrom\u001b[39;00m \u001b[38;5;21;01mrl_foraging\u001b[39;00m\u001b[38;5;21;01m.\u001b[39;00m\u001b[38;5;21;01manalytics\u001b[39;00m \u001b[38;5;28;01mimport\u001b[39;00m discrete_composite_sample, discrete_pw_sample, simul_2actions, get_ps_composite, get_ps\n",
      "\u001b[1;31mModuleNotFoundError\u001b[0m: No module named 'rl_foraging'"
     ]
    }
   ],
   "source": [
    "import numpy as np\n",
    "import matplotlib.pyplot as plt\n",
    "from tqdm.notebook import tqdm\n",
    "\n",
    "from rl_foraging.analytics import discrete_composite_sample, discrete_pw_sample, simul_2actions, get_ps_composite, get_ps"
   ]
  },
  {
   "cell_type": "code",
   "execution_count": null,
   "id": "3418ffa0-85a8-4c8c-b7eb-79adcd0a9378",
   "metadata": {},
   "outputs": [],
   "source": [
    "def hex_rgb(value):\n",
    "    \"\"\"Return (red, green, blue) for the color given as #rrggbb.\"\"\"\n",
    "    value = value.lstrip('#')\n",
    "    lv = len(value)\n",
    "    return np.array(tuple(int(value[i:i + lv // 3], 16) for i in range(0, lv, lv // 3)))/255\n",
    "\n",
    "import matplotlib.gridspec as gridspec\n",
    "from matplotlib.colors import ListedColormap, LinearSegmentedColormap\n",
    "\n",
    "list_color = [hex_rgb(i) for i in ['f9b233ff', '1d71b8ff']]\n",
    "cmap_list = LinearSegmentedColormap.from_list(\"\", list_color, N = 8)\n",
    "def color(idx, cmap = cmap_list, num_c = 4):\n",
    "    return cmap(np.linspace(0, 1, num_c)[idx])\n",
    "\n",
    "font_legend = 10"
   ]
  },
  {
   "cell_type": "code",
   "execution_count": null,
   "id": "27922825-9f89-4685-9c9f-9256f773178e",
   "metadata": {},
   "outputs": [],
   "source": [
    "num_states = int(1e4)\n",
    "\n",
    "# This one for good figure\n",
    "epochs = int(1e3); num_steps = int(1e4);\n",
    "\n",
    "# This one for draft:\n",
    "#epochs = int(1e2); num_steps = int(1e2);"
   ]
  },
  {
   "cell_type": "markdown",
   "id": "43c7d168-d240-4e75-b213-cf02dc6348d2",
   "metadata": {},
   "source": [
    "## Fig 2. "
   ]
  },
  {
   "cell_type": "markdown",
   "id": "09dd99c5-5cf6-44ae-8aef-c6b1b07fd45b",
   "metadata": {},
   "source": [
    "Power law"
   ]
  },
  {
   "cell_type": "code",
   "execution_count": null,
   "id": "6724867e-2c10-4629-9fb7-f9d4381ccdba",
   "metadata": {},
   "outputs": [
    {
     "data": {
      "application/vnd.jupyter.widget-view+json": {
       "model_id": "4ecd76b068844b24a23a3ab5856e856d",
       "version_major": 2,
       "version_minor": 0
      },
      "text/plain": [
       "  0%|          | 0/4 [00:00<?, ?it/s]"
      ]
     },
     "metadata": {},
     "output_type": "display_data"
    },
    {
     "data": {
      "application/vnd.jupyter.widget-view+json": {
       "model_id": "d958b46030d24de98de897d9a27519e4",
       "version_major": 2,
       "version_minor": 0
      },
      "text/plain": [
       "  0%|          | 0/1000 [00:00<?, ?it/s]"
      ]
     },
     "metadata": {},
     "output_type": "display_data"
    },
    {
     "ename": "KeyboardInterrupt",
     "evalue": "",
     "output_type": "error",
     "traceback": [
      "\u001b[1;31m---------------------------------------------------------------------------\u001b[0m",
      "\u001b[1;31mKeyboardInterrupt\u001b[0m                         Traceback (most recent call last)",
      "Input \u001b[1;32mIn [17]\u001b[0m, in \u001b[0;36m<cell line: 4>\u001b[1;34m()\u001b[0m\n\u001b[0;32m     14\u001b[0m     ps\u001b[38;5;241m.\u001b[39mreset()\n\u001b[0;32m     15\u001b[0m     \u001b[38;5;28;01mfor\u001b[39;00m s \u001b[38;5;129;01min\u001b[39;00m steps[e]:    \n\u001b[1;32m---> 16\u001b[0m         \u001b[43mps\u001b[49m\u001b[38;5;241;43m.\u001b[39;49m\u001b[43mreward\u001b[49m\u001b[43m(\u001b[49m\u001b[43mlength\u001b[49m\u001b[43m \u001b[49m\u001b[38;5;241;43m=\u001b[39;49m\u001b[43m \u001b[49m\u001b[43ms\u001b[49m\u001b[43m)\u001b[49m\n\u001b[0;32m     18\u001b[0m hmatrix_pw[idxb] \u001b[38;5;241m=\u001b[39m ps\u001b[38;5;241m.\u001b[39mh_matrix\n",
      "File \u001b[1;32mc:\\users\\gorka\\github\\rl_optimal_search\\rl_optimal_search\\theory.py:231\u001b[0m, in \u001b[0;36msimul_2actions.reward\u001b[1;34m(self, length, reward)\u001b[0m\n\u001b[0;32m    229\u001b[0m \u001b[38;5;28mself\u001b[39m\u001b[38;5;241m.\u001b[39mg_matrix[\u001b[38;5;241m0\u001b[39m, :length\u001b[38;5;241m-\u001b[39m\u001b[38;5;241m1\u001b[39m] \u001b[38;5;241m*\u001b[39m\u001b[38;5;241m=\u001b[39m (factor\u001b[38;5;241m*\u001b[39m\u001b[38;5;241m*\u001b[39mnp\u001b[38;5;241m.\u001b[39marange(\u001b[38;5;241m1\u001b[39m,length))[::\u001b[38;5;241m-\u001b[39m\u001b[38;5;241m1\u001b[39m]\n\u001b[0;32m    230\u001b[0m \u001b[38;5;66;03m# multiply the rest of the matrix by number of steps don\u001b[39;00m\n\u001b[1;32m--> 231\u001b[0m \u001b[38;5;28mself\u001b[39m\u001b[38;5;241m.\u001b[39mg_matrix[\u001b[38;5;241m0\u001b[39m, length\u001b[38;5;241m-\u001b[39m\u001b[38;5;241m1\u001b[39m:] \u001b[38;5;241m*\u001b[39m\u001b[38;5;241m=\u001b[39m factor\u001b[38;5;241m*\u001b[39m\u001b[38;5;241m*\u001b[39mlength\n\u001b[0;32m    233\u001b[0m \u001b[38;5;66;03m# updating the ROTATE part of g-matrix\u001b[39;00m\n\u001b[0;32m    234\u001b[0m \u001b[38;5;28mself\u001b[39m\u001b[38;5;241m.\u001b[39mg_matrix[\u001b[38;5;241m1\u001b[39m, :] \u001b[38;5;241m*\u001b[39m\u001b[38;5;241m=\u001b[39m factor\u001b[38;5;241m*\u001b[39m\u001b[38;5;241m*\u001b[39mlength\n",
      "\u001b[1;31mKeyboardInterrupt\u001b[0m: "
     ]
    }
   ],
   "source": [
    "betas = [0.5, 1, 1.5, 2]\n",
    "hmatrix_pw = np.zeros((len(betas), 2, num_states))\n",
    "\n",
    "for idxb, beta in enumerate(tqdm(betas)):\n",
    "    \n",
    "    ps = simul_2actions(num_states = num_states,\n",
    "                        eta = int(1e-7),\n",
    "                        gamma = 0)\n",
    "    \n",
    "    steps = discrete_pw_sample(beta, L_max = num_states, num_samples = int(epochs*num_steps))\n",
    "    steps = steps.reshape(epochs, num_steps)\n",
    "                               \n",
    "    for e in tqdm(range(epochs)):\n",
    "        ps.reset()\n",
    "        for s in steps[e]:    \n",
    "            ps.reward(length = s)\n",
    "            \n",
    "    hmatrix_pw[idxb] = ps.h_matrix"
   ]
  },
  {
   "cell_type": "markdown",
   "id": "691ec5a7-a951-4169-b91a-509be0b4daa7",
   "metadata": {},
   "source": [
    "BiExp"
   ]
  },
  {
   "cell_type": "code",
   "execution_count": null,
   "id": "927137b4-f40f-4700-9d6a-01e9024a4ff6",
   "metadata": {},
   "outputs": [
    {
     "data": {
      "application/vnd.jupyter.widget-view+json": {
       "model_id": "91044e88f01047ca946375c7bea49c40",
       "version_major": 2,
       "version_minor": 0
      },
      "text/plain": [
       "  0%|          | 0/4 [00:00<?, ?it/s]"
      ]
     },
     "metadata": {},
     "output_type": "display_data"
    },
    {
     "data": {
      "application/vnd.jupyter.widget-view+json": {
       "model_id": "a89d5067ad0e4c2f8d0a705bd427b892",
       "version_major": 2,
       "version_minor": 0
      },
      "text/plain": [
       "  0%|          | 0/100 [00:00<?, ?it/s]"
      ]
     },
     "metadata": {},
     "output_type": "display_data"
    },
    {
     "data": {
      "application/vnd.jupyter.widget-view+json": {
       "model_id": "f9ad7399b33d4710a99aedac4433c1fd",
       "version_major": 2,
       "version_minor": 0
      },
      "text/plain": [
       "  0%|          | 0/100 [00:00<?, ?it/s]"
      ]
     },
     "metadata": {},
     "output_type": "display_data"
    },
    {
     "data": {
      "application/vnd.jupyter.widget-view+json": {
       "model_id": "6d9c20ff77cc4a999c7dfdf7ca8c3b42",
       "version_major": 2,
       "version_minor": 0
      },
      "text/plain": [
       "  0%|          | 0/100 [00:00<?, ?it/s]"
      ]
     },
     "metadata": {},
     "output_type": "display_data"
    },
    {
     "data": {
      "application/vnd.jupyter.widget-view+json": {
       "model_id": "69d0a70d0e984c96a501061ec9692073",
       "version_major": 2,
       "version_minor": 0
      },
      "text/plain": [
       "  0%|          | 0/100 [00:00<?, ?it/s]"
      ]
     },
     "metadata": {},
     "output_type": "display_data"
    }
   ],
   "source": [
    "probs = np.array([0.94, 0.06])\n",
    "lambdas = np.array([0.6, 5000])\n",
    "\n",
    "lambdas_1 = [0.6, 0.6*2, 0.6*8, 0.6*16]\n",
    "hmatrix_bi = np.zeros((len(lambdas_1), num_states))\n",
    "\n",
    "for idx_l, lambda_1 in enumerate(tqdm(lambdas_1)):\n",
    "    \n",
    "    ps = simul_2actions(num_states = num_states,\n",
    "                    eta = int(1e-7),\n",
    "                    gamma = 0)\n",
    "    \n",
    "    lambdas[0] = lambda_1\n",
    "    steps = discrete_composite_sample(lambdas = lambdas,\n",
    "                                      probs = probs, \n",
    "                                      L_max = num_states, num_samples = num_steps*epochs)\n",
    "    steps = steps.reshape(epochs, num_steps)\n",
    "    \n",
    "    # Training\n",
    "    for e in tqdm(range(epochs)):\n",
    "        ps.reset()\n",
    "        for s in steps[e]:         \n",
    "            ps.reward(length = s)\n",
    "    # Saving\n",
    "    hmatrix_bi[idx_l] = ps.h_matrix[0]/ps.h_matrix.sum(0)\n"
   ]
  },
  {
   "cell_type": "code",
   "execution_count": null,
   "id": "b4e06bec-87ae-407b-997e-49d35c3c30d3",
   "metadata": {},
   "outputs": [
    {
     "data": {
      "image/png": "[encoded data removed]",
      "text/plain": [
       "<Figure size 432x216 with 2 Axes>"
      ]
     },
     "metadata": {
      "needs_background": "light"
     },
     "output_type": "display_data"
    }
   ],
   "source": [
    "fig, [ax_pw, ax_bi] = plt.subplots(1, 2, figsize = (6,3))\n",
    "\n",
    "############# Powerlaw #################\n",
    "for idx, (h, beta) in enumerate(zip(hmatrix_pw, betas)):\n",
    "    if idx == 0: label = 'Theory'\n",
    "    else: label = ''\n",
    "    \n",
    "    theory = get_ps(ps.num_states, alpha = beta, ps_0 = 1)\n",
    "    ax_pw.plot(np.arange(2, num_states+1), theory[1:], c = color(idx))\n",
    "    ax_pw.plot(np.arange(2, num_states+2), h[0,:]/h.sum(0), 'o', \n",
    "               c = color(idx),  label = fr'$\\beta$ = {beta}', alpha = 0.8, markeredgecolor='None', lw = 0.05)\n",
    "\n",
    "# plt.setp(ax_pw, xlim = (1.8, 30), ylim = (0.0, 1.01),\n",
    "#          xlabel =r'$l$', ylabel = r'$\\pi_s(l)$', \n",
    "#          yticks = np.round(np.arange(0.2, 1.01, 0.2),1),\n",
    "#          yticklabels = np.round(np.arange(0.2, 1.01, 0.2),1).astype(str),\n",
    "#          xscale = 'log')\n",
    "\n",
    "ax_pw.plot(10, 10, label = 'Theory', c = 'k')   \n",
    "ax_pw.legend(fontsize = font_legend)\n",
    "   \n",
    "    \n",
    "############# BiExp #################\n",
    "for idx, (lambda_1, h) in enumerate(zip(lambdas_1, hmatrix_bi)):    \n",
    "    lambdas[0] = lambda_1    \n",
    "    ps_composite = get_ps_composite(num_states, lambdas = lambdas, probs = probs)\n",
    "    ax_bi.plot(np.arange(2, num_states+1), ps_composite[1:], '-', \n",
    "               c = color(idx))    \n",
    "    ax_bi.plot(np.arange(2, num_states+2), h, 'o',               \n",
    "               c = color(idx),  label = fr'$d_1$ = {np.round(lambda_1,1)}', alpha = 0.8, markeredgecolor='None')\n",
    "\n",
    "ax_bi.plot(10, 10, label = 'Theory', c = 'k')   \n",
    "ax_bi.legend(fontsize = font_legend)\n",
    "    \n",
    "    \n",
    "plt.setp(ax_pw, xlabel =r'$n$', ylabel = r'$\\pi(\\uparrow|N)$', xscale = 'log')\n",
    "plt.setp([ax_pw, ax_bi], xlim = (1.6, 30), ylim = (0.1, 1.049972989855765)) ;\n",
    "plt.setp(ax_bi, ylabel = '', xlabel = r'$n$', yticklabels = [], xscale = 'log');\n"
   ]
  },
  {
   "cell_type": "markdown",
   "id": "873af261-cd50-4e38-8bbb-d6b8903f0c98",
   "metadata": {},
   "source": [
    "## Fig Cutoff"
   ]
  },
  {
   "cell_type": "code",
   "execution_count": null,
   "id": "10909415-830c-465d-91de-513ecf90c7a1",
   "metadata": {},
   "outputs": [
    {
     "data": {
      "application/vnd.jupyter.widget-view+json": {
       "model_id": "9b57fa87e4df44df9e4fd57955014532",
       "version_major": 2,
       "version_minor": 0
      },
      "text/plain": [
       "  0%|          | 0/5 [00:00<?, ?it/s]"
      ]
     },
     "metadata": {},
     "output_type": "display_data"
    }
   ],
   "source": [
    "probs = np.array([0.94, 0.06])\n",
    "lambdas = np.array([0.6, 5000])\n",
    "# Get theoretical policy\n",
    "theory_cutoff = get_ps_composite(L = num_states, lambdas = lambdas, probs = probs)\n",
    "\n",
    "\n",
    "# Setting a max step length\n",
    "L_cutoffs = [30, 150, 500, 2000, 10000]\n",
    "\n",
    "steps_og = discrete_composite_sample(lambdas = lambdas, probs = probs, L_max = num_states, num_samples = num_steps*epochs)\n",
    "\n",
    "\n",
    "hmatrix_co = np.zeros((len(L_cutoffs), num_states))\n",
    "for idx_c, L_cutoff in enumerate(tqdm(L_cutoffs)):\n",
    "    # L_cutoff *= num_states\n",
    "\n",
    "    steps = steps_og.copy()\n",
    "    while np.max(steps) > L_cutoff:\n",
    "            steps[steps > L_cutoff] = discrete_composite_sample(lambdas = lambdas, \n",
    "                                                                probs = probs,\n",
    "                                                                L_max = num_states, num_samples = len(steps[steps > L_cutoff]))\n",
    "    steps = steps.reshape(epochs, num_steps)\n",
    "    ps = simul_2actions(num_states = num_states,\n",
    "                    eta = int(1e-7),\n",
    "                    gamma = 0)\n",
    "    # Training\n",
    "    for e in (range(epochs)):\n",
    "        ps.reset()\n",
    "        for s in steps[e]:         \n",
    "            ps.reward(length = s)\n",
    "    # Saving\n",
    "    hmatrix_co[idx_c] = ps.h_matrix[0]/ps.h_matrix.sum(0)\n"
   ]
  },
  {
   "cell_type": "code",
   "execution_count": null,
   "id": "81945f5f-d278-4198-ab01-c5ddc1637498",
   "metadata": {},
   "outputs": [
    {
     "data": {
      "text/plain": [
       "[Text(0.5, 0, '$n$'), Text(0, 0.5, '$\\\\pi(\\\\uparrow|N)$'), None]"
      ]
     },
     "execution_count": null,
     "metadata": {},
     "output_type": "execute_result"
    },
    {
     "data": {
      "image/png": "[encoded data removed]",
      "text/plain": [
       "<Figure size 432x216 with 1 Axes>"
      ]
     },
     "metadata": {
      "needs_background": "light"
     },
     "output_type": "display_data"
    }
   ],
   "source": [
    "fig, ax_co = plt.subplots(figsize = (6, 3))\n",
    "\n",
    "############# Cutoff #################\n",
    "for idx, (h, L_cutoff) in enumerate(zip(hmatrix_co, L_cutoffs)):   \n",
    "    ax_co.plot(np.arange(2, num_states+2), h, 'o',               \n",
    "               c = color(idx, num_c=5),  label = r'$L_{max}$ = '+f'{L_cutoff}', alpha = 0.8, markeredgecolor='None', rasterized=True)\n",
    "    ax_co.plot(np.arange(2, num_states+2), h,                \n",
    "               c = color(idx, num_c=5),  alpha = 0.2)\n",
    "\n",
    "ax_co.plot(np.arange(2, num_states+1), theory_cutoff[1:], '-', c = 'k', alpha = 0.8, label = r'$L_{max}\\rightarrow \\infty$') \n",
    "\n",
    "plt.legend(fontsize = font_legend,  loc = 'lower right')\n",
    "\n",
    "########### Shared ################\n",
    "    \n",
    "plt.setp(ax_co, xlabel =r'$n$', ylabel = r'$\\pi(\\uparrow|N)$', xscale = 'log')\n",
    "\n",
    "\n",
    "# ax_pw.set_title('a) Power law', fontsize = font_legend)\n",
    "# ax_bi.set_title('b) Bi-exponential', fontsize = font_legend)\n",
    "# ax_co.set_title('Power law')\n",
    "\n",
    "# for a, let in zip([ax_pw, ax_bi, ax_co], 'abc'):\n",
    "#     a.annotate(let+')', xy = (0.02, 0.92),  fontsize = 12, xycoords = 'axes fraction') ;\n",
    "    \n",
    "#fig.savefig('../../../overleaf/optimal_rl/figures/fake_training_cutoff.pdf', transparent = True, bbox_inches = 'tight', pad_inches = 0)"
   ]
  }
 ],
 "metadata": {
  "kernelspec": {
   "display_name": "optimal_rl",
   "language": "python",
   "name": "optimal_rl"
  }
 },
 "nbformat": 4,
 "nbformat_minor": 5
}
