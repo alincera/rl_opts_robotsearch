{
 "cells": [
  {
   "cell_type": "raw",
   "metadata": {},
   "source": [
    "---\n",
    "output-file: cluster_launch.html\n",
    "title: Reproducing PRE 103 022105\n",
    "\n",
    "---\n",
    "\n"
   ]
  },
  {
   "cell_type": "code",
   "execution_count": null,
   "id": "1d57c441-10a1-4ec0-a999-780646a8b8b8",
   "metadata": {},
   "outputs": [],
   "source": [
    "#| default_exp cluster_launch"
   ]
  },
  {
   "cell_type": "markdown",
   "id": "e8fb8067-b6b9-4a7a-85f2-8cb39596ac80",
   "metadata": {},
   "source": [
    "This notebook prepares the code to be launch in the cluster"
   ]
  },
  {
   "cell_type": "code",
   "execution_count": 1,
   "id": "e195afaa-7817-42b2-98bb-f6dc3259e9d0",
   "metadata": {},
   "outputs": [],
   "source": [
    "#| export\n",
    "import numpy as np\n",
    "from joblib import Parallel, delayed\n",
    "from tqdm.auto import tqdm\n",
    "\n",
    "from rl_optimal_search.environment import target_search, is_c_between_ab, get_distance\n",
    "from rl_optimal_search.diffusion_walks import lw_step, discrete_multiexp_step"
   ]
  },
  {
   "cell_type": "code",
   "execution_count": 2,
   "id": "306a0d35-45f6-45a4-a03a-6b000a49de5f",
   "metadata": {
    "tags": []
   },
   "outputs": [],
   "source": [
    "import matplotlib.pyplot as plt\n",
    "%load_ext autoreload\n",
    "%autoreload 2"
   ]
  },
  {
   "cell_type": "code",
   "execution_count": 8,
   "id": "abce5801-ecb9-4088-b9b2-104777700415",
   "metadata": {},
   "outputs": [],
   "source": [
    "def single_step_search(N, L, Nt, sampler_step, pos = None, **args_sampler):\n",
    "\n",
    "    real_steps, sampled_steps, num_encounter = [], [], []\n",
    "    \n",
    "    if pos is None:\n",
    "        pos = np.random.rand(N, 2)*L\n",
    "    target_positions = np.random.rand(Nt, 2)*L\n",
    "\n",
    "    steps = sampler_step(**args_sampler)\n",
    "\n",
    "    angles = np.random.uniform(low = 0, high = 2*np.pi, size = N)\n",
    "    pos_t = np.zeros_like(pos)\n",
    "    pos_t[:, 0] = (pos[:, 0] + steps*np.cos(angles))%L\n",
    "    pos_t[:, 1] = (pos[:, 1] + steps*np.sin(angles))%L            \n",
    "\n",
    "    \n",
    "    masked = np.array([False]*N)\n",
    "    for idxT, pT in enumerate(target_positions):\n",
    "\n",
    "        mask = is_c_between_ab(pos, pos_t, pT, radius = at)\n",
    "\n",
    "        masked += np.array(mask)\n",
    "\n",
    "        # Check real distance travelled\n",
    "        if np.sum(mask) > 0:\n",
    "            real_steps += np.linalg.norm(pos[mask == True, :].copy() - pT, axis = 1).tolist()\n",
    "            \n",
    "\n",
    "    num_encounter.append(np.sum(masked))\n",
    "\n",
    "    return real_steps, steps, num_encounter"
   ]
  },
  {
   "cell_type": "code",
   "execution_count": 52,
   "id": "204e8c5e-5189-4ae7-a0a6-17a735de1400",
   "metadata": {},
   "outputs": [],
   "source": [
    "def single_step_search_flight(N, L, Nt, sampler_step, pos = None, **args_sampler):\n",
    "\n",
    "    real_steps, sampled_steps, num_encounter = [], [], []\n",
    "    \n",
    "    if pos is None:\n",
    "        pos = np.random.rand(N, 2)*L\n",
    "    target_positions = np.random.rand(Nt, 2)*L\n",
    "\n",
    "    steps = sampler_step(**args_sampler)\n",
    "\n",
    "    angles = np.random.uniform(low = 0, high = 2*np.pi, size = N)\n",
    "    pos_t = np.zeros_like(pos)\n",
    "    pos_t[:, 0] = (pos[:, 0] + steps*np.cos(angles))%L\n",
    "    pos_t[:, 1] = (pos[:, 1] + steps*np.sin(angles))%L \n",
    "    \n",
    "    poses = np.vstack((pos_t, target_positions))\n",
    "    dist_to_targ = get_distance(poses)[-Nt:,:-Nt]\n",
    "    encounter = dist_to_targ[dist_to_targ < 2*np.pi]        \n",
    "\n",
    "    num_encounter.append(np.sum(encounter))\n",
    "\n",
    "    return steps, num_encounter"
   ]
  },
  {
   "cell_type": "markdown",
   "id": "b2ca4411-bf37-4809-a6ba-4713ee02f136",
   "metadata": {},
   "source": [
    "## LW"
   ]
  },
  {
   "cell_type": "code",
   "execution_count": 51,
   "id": "bed89fd9-c34f-4208-ad60-996ad98ef20a",
   "metadata": {},
   "outputs": [],
   "source": [
    "Nt = 4\n",
    "N = 2*(10**5);\n",
    "L = 200\n",
    "at = 1\n",
    "\n",
    "sampler_step = lw_step\n",
    "alpha = 0.5"
   ]
  },
  {
   "cell_type": "code",
   "execution_count": 52,
   "id": "c186bada-eeaa-45b9-9235-6c10b0601a6d",
   "metadata": {},
   "outputs": [
    {
     "data": {
      "application/vnd.jupyter.widget-view+json": {
       "model_id": "5fa109fa425c46e98cdec6961bfc2a5d",
       "version_major": 2,
       "version_minor": 0
      },
      "text/plain": [
       "  0%|          | 0/100 [00:00<?, ?it/s]"
      ]
     },
     "metadata": {},
     "output_type": "display_data"
    }
   ],
   "source": [
    "alphas = np.linspace(0.1, 2, 20)\n",
    "reps = 100\n",
    "\n",
    "effi_lw_w = np.zeros((reps, len(alphas)))\n",
    "encs_lw_w = np.zeros_like(effi_lw_w)\n",
    "\n",
    "   \n",
    "for idxr in tqdm(range(reps)):\n",
    "\n",
    "    for idx, alpha in enumerate(alphas):\n",
    "        real_steps, steps, num_encounter = single_step_search(N=N, L=L, Nt = Nt,\n",
    "                                                                  sampler_step=lw_step, alpha = alpha, num_part = N)\n",
    "       \n",
    "\n",
    "        effi_lw_w[idxr, idx] = num_encounter / np.sum(real_steps)\n",
    "        encs_lw_w[idxr, idx] = num_encounter[0]\n",
    "\n",
    "    \n",
    "    "
   ]
  },
  {
   "cell_type": "code",
   "execution_count": 55,
   "id": "9f68a38f-516e-4fcd-af5e-bf8c863a2fef",
   "metadata": {},
   "outputs": [
    {
     "data": {
      "text/plain": [
       "[<matplotlib.lines.Line2D at 0x244a3b57760>]"
      ]
     },
     "execution_count": 55,
     "metadata": {},
     "output_type": "execute_result"
    },
    {
     "data": {
      "image/png": "[encoded data removed]",
      "text/plain": [
       "<Figure size 432x288 with 1 Axes>"
      ]
     },
     "metadata": {
      "needs_background": "light"
     },
     "output_type": "display_data"
    }
   ],
   "source": [
    "plt.plot(alphas, effi_lw_w.mean(0))"
   ]
  },
  {
   "cell_type": "code",
   "execution_count": 54,
   "id": "8e31e313-c1dd-4a05-ac75-cd076f3681b6",
   "metadata": {},
   "outputs": [
    {
     "data": {
      "text/plain": [
       "[<matplotlib.lines.Line2D at 0x244a39f9580>]"
      ]
     },
     "execution_count": 54,
     "metadata": {},
     "output_type": "execute_result"
    },
    {
     "data": {
      "image/png": "[encoded data removed]",
      "text/plain": [
       "<Figure size 432x288 with 1 Axes>"
      ]
     },
     "metadata": {
      "needs_background": "light"
     },
     "output_type": "display_data"
    }
   ],
   "source": [
    "plt.plot(alphas, encs_lw_w[idxr])"
   ]
  },
  {
   "cell_type": "markdown",
   "id": "0fed295c-8d38-4ce4-8e96-8b128a5847cc",
   "metadata": {},
   "source": [
    "### Flight"
   ]
  },
  {
   "cell_type": "code",
   "execution_count": 51,
   "id": "9f6cb8f4-2d3b-4073-8364-8e423ca8e506",
   "metadata": {},
   "outputs": [
    {
     "data": {
      "text/plain": [
       "-2.8134107167600364"
      ]
     },
     "execution_count": 51,
     "metadata": {},
     "output_type": "execute_result"
    }
   ],
   "source": [
    "np.log(0.06)"
   ]
  },
  {
   "cell_type": "code",
   "execution_count": 53,
   "id": "9d06a0e5-d2d4-4cf0-9505-8b0657b118fb",
   "metadata": {},
   "outputs": [],
   "source": [
    "Nt = 4\n",
    "N = 2*(10**2);\n",
    "L = 200\n",
    "at = 1\n",
    "\n",
    "sampler_step = lw_step\n",
    "alpha = 0.5"
   ]
  },
  {
   "cell_type": "code",
   "execution_count": 55,
   "id": "539e05ab-3abe-4bb0-8784-e49c481c1557",
   "metadata": {},
   "outputs": [
    {
     "data": {
      "application/vnd.jupyter.widget-view+json": {
       "model_id": "43faf9bbce7f4b54a2c315245f9b7ab8",
       "version_major": 2,
       "version_minor": 0
      },
      "text/plain": [
       "  0%|          | 0/30000 [00:00<?, ?it/s]"
      ]
     },
     "metadata": {},
     "output_type": "display_data"
    }
   ],
   "source": [
    "reps = 3*int(1e4)\n",
    "alphas = np.linspace(0.1, 2, 20)\n",
    "\n",
    "effi_lw_f = np.zeros((reps, len(alphas)))\n",
    "encs_lw_f = np.zeros_like(effi_lw_f)\n",
    "\n",
    "\n",
    "for idxr in tqdm(range(reps)):\n",
    "\n",
    "    for idx, alpha in enumerate(alphas):\n",
    "        real_steps, num_encounter = single_step_search_flight(N=N, L=L, Nt = Nt,\n",
    "                                                                      sampler_step=lw_step, alpha = alpha, num_part = N)\n",
    "        effi_lw_f[idxr, idx] = num_encounter / np.sum(real_steps)\n",
    "        encs_lw_f[idxr, idx] = num_encounter[0]"
   ]
  },
  {
   "cell_type": "code",
   "execution_count": 56,
   "id": "599377cf-d084-4228-a23f-224cef3e3af6",
   "metadata": {},
   "outputs": [
    {
     "data": {
      "text/plain": [
       "[<matplotlib.lines.Line2D at 0x2566f864490>]"
      ]
     },
     "execution_count": 56,
     "metadata": {},
     "output_type": "execute_result"
    },
    {
     "data": {
      "image/png": "[encoded data removed]",
      "text/plain": [
       "<Figure size 432x288 with 1 Axes>"
      ]
     },
     "metadata": {
      "needs_background": "light"
     },
     "output_type": "display_data"
    }
   ],
   "source": [
    "plt.plot(alphas, effi_lw_f.mean(0))"
   ]
  },
  {
   "cell_type": "code",
   "execution_count": 40,
   "id": "9264ac41-3b87-458a-8c7e-322cb71955c2",
   "metadata": {},
   "outputs": [
    {
     "ename": "NameError",
     "evalue": "name 'encs_lw_f' is not defined",
     "output_type": "error",
     "traceback": [
      "\u001b[1;31m---------------------------------------------------------------------------\u001b[0m",
      "\u001b[1;31mNameError\u001b[0m                                 Traceback (most recent call last)",
      "\u001b[1;32m<ipython-input-40-e993e519ff52>\u001b[0m in \u001b[0;36m<module>\u001b[1;34m\u001b[0m\n\u001b[1;32m----> 1\u001b[1;33m \u001b[0mplt\u001b[0m\u001b[1;33m.\u001b[0m\u001b[0mplot\u001b[0m\u001b[1;33m(\u001b[0m\u001b[0malphas\u001b[0m\u001b[1;33m,\u001b[0m \u001b[0mencs_lw_f\u001b[0m\u001b[1;33m.\u001b[0m\u001b[0mmean\u001b[0m\u001b[1;33m(\u001b[0m\u001b[1;36m0\u001b[0m\u001b[1;33m)\u001b[0m\u001b[1;33m)\u001b[0m\u001b[1;33m\u001b[0m\u001b[1;33m\u001b[0m\u001b[0m\n\u001b[0m",
      "\u001b[1;31mNameError\u001b[0m: name 'encs_lw_f' is not defined"
     ]
    }
   ],
   "source": [
    "plt.plot(alphas, encs_lw_f.mean(0))"
   ]
  },
  {
   "cell_type": "markdown",
   "id": "9de24c15-5ae7-4fbe-9947-f27a448f5d9f",
   "metadata": {},
   "source": [
    "## Biexp"
   ]
  },
  {
   "cell_type": "code",
   "execution_count": 25,
   "id": "2fea043a-446b-43c0-87d5-6676c80d29b5",
   "metadata": {},
   "outputs": [
    {
     "data": {
      "text/plain": [
       "40000"
      ]
     },
     "execution_count": 25,
     "metadata": {},
     "output_type": "execute_result"
    }
   ],
   "source": [
    "L**2"
   ]
  },
  {
   "cell_type": "code",
   "execution_count": 18,
   "id": "4267cdc3-6fd0-4f50-8fed-ca4153c7bd70",
   "metadata": {},
   "outputs": [
    {
     "data": {
      "text/plain": [
       "0.0001"
      ]
     },
     "execution_count": 18,
     "metadata": {},
     "output_type": "execute_result"
    }
   ],
   "source": [
    "Nt/L**2"
   ]
  },
  {
   "cell_type": "code",
   "execution_count": 30,
   "id": "7e33cb51-48be-4648-9099-abe4a4c16d56",
   "metadata": {},
   "outputs": [],
   "source": [
    "density = 1e-4\n",
    "L = 1000\n",
    "Nt = density*L**2"
   ]
  },
  {
   "cell_type": "code",
   "execution_count": 31,
   "id": "dee54886-08d9-4029-b80e-020101428579",
   "metadata": {},
   "outputs": [
    {
     "data": {
      "text/plain": [
       "100.0"
      ]
     },
     "execution_count": 31,
     "metadata": {},
     "output_type": "execute_result"
    }
   ],
   "source": [
    "Nt"
   ]
  },
  {
   "cell_type": "code",
   "execution_count": 35,
   "id": "10271b09-d204-49cb-a065-5c5a5368abff",
   "metadata": {},
   "outputs": [],
   "source": [
    "Nt = 4\n",
    "N = 2*(10**4);\n",
    "L = 200\n",
    "\n",
    "density = 1e-4\n",
    "L = 1000\n",
    "Nt = int(density*L**2)\n",
    "\n",
    "at = 1\n",
    "\n",
    "x0 = np.sqrt(2)\n",
    "pos = np.ones((N, 2))*x0\n",
    "\n",
    "sampler_step = discrete_multiexp_step\n",
    "ds = [L*10**3, x0]"
   ]
  },
  {
   "cell_type": "code",
   "execution_count": 36,
   "id": "1c60034c-fe0b-4eff-ad77-bbad8e87ef10",
   "metadata": {},
   "outputs": [
    {
     "data": {
      "application/vnd.jupyter.widget-view+json": {
       "model_id": "91faa6f65c19435d986af2735adb56f9",
       "version_major": 2,
       "version_minor": 0
      },
      "text/plain": [
       "  0%|          | 0/100 [00:00<?, ?it/s]"
      ]
     },
     "metadata": {},
     "output_type": "display_data"
    }
   ],
   "source": [
    "w1s = np.logspace(-3,-1, 20)\n",
    "reps = 100\n",
    "\n",
    "effi = np.zeros((reps, len(w1s)))\n",
    "encs = np.zeros_like(effi)\n",
    "\n",
    "for idxr in tqdm(range(reps)):\n",
    "\n",
    "    for idx, w1 in enumerate(w1s):\n",
    "\n",
    "\n",
    "\n",
    "            ws = [w1, 1-w1]\n",
    "\n",
    "            real_steps, sampled_steps, num_encounter = single_step_search(N=N, L=L, Nt = Nt, pos = pos,\n",
    "                                                                          sampler_step=sampler_step, ws = ws, ds = ds, num_samples = N, L_max = 1e6)\n",
    "            effi[idxr, idx] = num_encounter / np.sum(sampled_steps)\n",
    "            encs[idxr, idx] = num_encounter[0]"
   ]
  },
  {
   "cell_type": "code",
   "execution_count": 37,
   "id": "059fe878-5241-4888-983d-320db844befc",
   "metadata": {},
   "outputs": [],
   "source": [
    "u,c = np.unique(sampled_steps, return_counts = True)"
   ]
  },
  {
   "cell_type": "code",
   "execution_count": 38,
   "id": "b8aafca6-a0d2-418a-83e0-14a50b191973",
   "metadata": {},
   "outputs": [
    {
     "data": {
      "text/plain": [
       "[<matplotlib.lines.Line2D at 0x244a3292b20>]"
      ]
     },
     "execution_count": 38,
     "metadata": {},
     "output_type": "execute_result"
    },
    {
     "data": {
      "image/png": "[encoded data removed]",
      "text/plain": [
       "<Figure size 432x288 with 1 Axes>"
      ]
     },
     "metadata": {
      "needs_background": "light"
     },
     "output_type": "display_data"
    }
   ],
   "source": [
    "plt.loglog(u, c)"
   ]
  },
  {
   "cell_type": "code",
   "execution_count": 39,
   "id": "a8bc883c-93e3-4177-af2a-be016ee7516d",
   "metadata": {},
   "outputs": [
    {
     "data": {
      "text/plain": [
       "[<matplotlib.lines.Line2D at 0x244a342e280>]"
      ]
     },
     "execution_count": 39,
     "metadata": {},
     "output_type": "execute_result"
    },
    {
     "data": {
      "image/png": "[encoded data removed]",
      "text/plain": [
       "<Figure size 432x288 with 1 Axes>"
      ]
     },
     "metadata": {
      "needs_background": "light"
     },
     "output_type": "display_data"
    }
   ],
   "source": [
    "plt.loglog(w1s, effi.mean(0)\n",
    "          )"
   ]
  },
  {
   "cell_type": "code",
   "execution_count": 56,
   "id": "3c4f1676-0b2d-496a-9e2a-a8f1519278da",
   "metadata": {},
   "outputs": [],
   "source": [
    "from rl_optimal_search.diffusion_walks import multiexp_dist"
   ]
  },
  {
   "cell_type": "code",
   "execution_count": 58,
   "id": "01fb2a47-8c44-4df6-bcd8-c7c35122b4fe",
   "metadata": {},
   "outputs": [
    {
     "data": {
      "text/plain": [
       "0.5002474387538566"
      ]
     },
     "execution_count": 58,
     "metadata": {},
     "output_type": "execute_result"
    }
   ],
   "source": [
    "multiexp_dist(np.arange(1, 100), ws, ds).sum()"
   ]
  },
  {
   "cell_type": "code",
   "execution_count": 61,
   "id": "7fb2a697-755c-49e3-a66b-e2c7411ae296",
   "metadata": {},
   "outputs": [],
   "source": [
    "def multiexp_dist(x, ws, ds):\n",
    "    val = 0\n",
    "    for wi, di in zip(ws, ds):\n",
    "        # discrete normalization from 1 to inf\n",
    "        norm = (wi/di)/(np.exp(1/di)-1)\n",
    "        val += (1/norm)* (wi/di) * np.exp(- x / di) \n",
    "    return val/len(ws)"
   ]
  },
  {
   "cell_type": "code",
   "execution_count": 68,
   "id": "fecf8686-4b53-43b2-818a-9ac27642ebc0",
   "metadata": {},
   "outputs": [
    {
     "data": {
      "text/plain": [
       "array([0.35658174, 0.92028455])"
      ]
     },
     "execution_count": 68,
     "metadata": {},
     "output_type": "execute_result"
    }
   ],
   "source": [
    "ds"
   ]
  },
  {
   "cell_type": "code",
   "execution_count": 75,
   "id": "887f0390-f97d-4181-991f-4b5cdba72750",
   "metadata": {},
   "outputs": [
    {
     "name": "stdout",
     "output_type": "stream",
     "text": [
      "0.9966310096568345\n",
      "0.9966310096568345\n",
      "0.9966310096568345\n",
      "0.9966310096568345\n",
      "0.9966310096568345\n",
      "0.9966310096568345\n",
      "0.9966310096568345\n",
      "0.9966310096568345\n",
      "0.9966310096568345\n",
      "0.9966310096568345\n"
     ]
    },
    {
     "data": {
      "image/png": "[encoded data removed]",
      "text/plain": [
       "<Figure size 432x288 with 1 Axes>"
      ]
     },
     "metadata": {
      "needs_background": "light"
     },
     "output_type": "display_data"
    }
   ],
   "source": [
    "for idx in range(10):\n",
    "    ws = [w1, 1-w1]\n",
    "    #ds = np.random.rand(2)\n",
    "    ds = [L*10**3, 20*x0]\n",
    "    b = multiexp_dist(np.arange(1, 1000000), ws, ds)\n",
    "    print(b.sum())\n",
    "\n",
    "    plt.loglog(b)\n",
    "# plt.ylim(ymin = 1e-3)"
   ]
  },
  {
   "cell_type": "code",
   "execution_count": null,
   "id": "d38c8509-34bd-4b6f-a7b7-001472309fdb",
   "metadata": {},
   "outputs": [],
   "source": []
  }
 ],
 "metadata": {
  "kernelspec": {
   "display_name": "Python 3",
   "language": "python",
   "name": "python3"
  },
  "language_info": {
   "codemirror_mode": {
    "name": "ipython",
    "version": 3
   },
   "file_extension": ".py",
   "mimetype": "text/x-python",
   "name": "python",
   "nbconvert_exporter": "python",
   "pygments_lexer": "ipython3",
   "version": "3.8.8"
  }
 },
 "nbformat": 4,
 "nbformat_minor": 5
}
