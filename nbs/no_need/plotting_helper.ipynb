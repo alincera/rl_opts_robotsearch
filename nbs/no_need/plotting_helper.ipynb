{
 "cells": [
  {
   "cell_type": "code",
   "execution_count": 1,
   "id": "1ec2f4e6-3e1a-438c-a3c6-a39572544bcf",
   "metadata": {},
   "outputs": [],
   "source": [
    "import numpy as np\n",
    "import pandas as pd\n",
    "import matplotlib.pyplot as plt"
   ]
  },
  {
   "cell_type": "code",
   "execution_count": 2,
   "id": "bc7044c3-bb10-46a7-83db-c8264db297ca",
   "metadata": {},
   "outputs": [],
   "source": [
    "def get_opt(path, ls, model='powerlaw', run=''):\n",
    "    \n",
    "    df = pd.read_csv(path+'df'+run+'_'+model+'_kick_'+str(ls)+'.csv')\n",
    "    filter_ = df['mean_reward'] == max(df['mean_reward'])\n",
    "    \n",
    "    if model == 'powerlaw':\n",
    "        \n",
    "        beta = df[filter_]['config/beta'].values[0]\n",
    "        rewards = np.load(path+'rewards_'+str(beta)+'.npy')\n",
    "        \n",
    "        return np.mean(rewards), np.std(rewards)/np.sqrt(len(rewards)), beta \n",
    "    \n",
    "    elif model == 'double_exp':\n",
    "        \n",
    "        par = [df[filter_]['config/d_int'].values[0], df[filter_]['config/d_ext'].values[0], df[filter_]['config/p'].values[0]]\n",
    "        rewards = np.load(path+'rewards_'+str(par)+'.npy')\n",
    "        \n",
    "        return np.mean(rewards), np.std(rewards)/np.sqrt(len(rewards)), par "
   ]
  },
  {
   "cell_type": "code",
   "execution_count": null,
   "id": "10a43e3b-d79e-4e0a-a50d-47f9689809b1",
   "metadata": {},
   "outputs": [],
   "source": [
    "def get_policy(results_path, config, agent, episode):\n",
    "    \n",
    "    memories = np.load(results_path + config + '/memories_pop_'+str(agent)+'_episode_'+str(episode)+'.npy')\n",
    "    num_states = len(memories[0,0,:])\n",
    "    \n",
    "    y = []\n",
    "    for state_index in range(num_states):\n",
    "        y.append(memories[ 0, 0, state_index] / np.sum(memories[0, :,state_index]))\n",
    "       \n",
    "    return y"
   ]
  },
  {
   "cell_type": "code",
   "execution_count": null,
   "id": "c6b19983-1a4d-4491-a62c-bde77eb92a20",
   "metadata": {},
   "outputs": [],
   "source": [
    "get_opt"
   ]
  },
  {
   "cell_type": "code",
   "execution_count": null,
   "id": "5671eb36-9885-4e55-a2fd-6ce882fe0d9e",
   "metadata": {},
   "outputs": [],
   "source": [
    "NUM_BINS = 3000\n",
    "\n",
    "#get all policies\n",
    "policies = np.zeros([NUM_AGENTS, NUM_BINS])\n",
    "for ind, ag in enumerate(AG_LIST):\n",
    "    #get policy of agent ag\n",
    "    policies[ind] = get_policy(results_path, config=CONFIG, agent=ag, episode=EPISODE)\n",
    "\n",
    "#get data for plot    \n",
    "lengths = np.arange(NUM_BINS)+1\n",
    "prob_allagents = np.zeros([NUM_AGENTS, len(lengths)])\n",
    "\n",
    "for i_length, l in enumerate(lengths):\n",
    "    for ind, ag in enumerate(AG_LIST):\n",
    "        #get probability of performing step of length l from policy\n",
    "        prob_allagents[ind, i_length] = np.prod(np.append(policies[ind,:l-1], 1-policies[ind,l-1]))\n",
    "        \n",
    "        \n",
    "\n"
   ]
  },
  {
   "cell_type": "code",
   "execution_count": 6,
   "id": "e005cc75-d9c0-41c9-bdbe-1251ec15992d",
   "metadata": {},
   "outputs": [
    {
     "data": {
      "text/plain": [
       "(1, 2, 3000)"
      ]
     },
     "execution_count": 6,
     "metadata": {},
     "output_type": "execute_result"
    }
   ],
   "source": [
    "np.load('../data_step_distr_plot/lc_0.6/memories_pop_0_episode_69000.npy').shape"
   ]
  },
  {
   "cell_type": "code",
   "execution_count": 80,
   "id": "a627a4c7-78b8-47cc-a276-5ba74171fac0",
   "metadata": {},
   "outputs": [],
   "source": [
    "num_agents = 10\n",
    "length_policy = 3000\n",
    "lengths = np.arange(length_policy)+1\n",
    "\n",
    "# policy_pw = np.zeros((num_agents, length_policy))\n",
    "prob_10_05 = np.zeros((num_agents, length_policy))\n",
    "prob_10_09 = np.zeros((num_agents, length_policy))\n",
    "\n",
    "for agent in range(num_agents):\n",
    "    \n",
    "    try:\n",
    "        h5 = np.load(f'../data_step_distr_plot/lc_10/memories_pop_{agent}_episode_69000.npy')[0]\n",
    "        h9 = np.load(f'../data_step_distr_plot/lc_10_withprior/memories_pop_{agent}_episode_69000.npy')[0]\n",
    "    except:\n",
    "        continue\n",
    "    for idxprior, h in enumerate([h5, h9]):    \n",
    "        norm = h.sum(0)\n",
    "        pol = h[0]/norm\n",
    "        \n",
    "        if idxprior == 0:\n",
    "            for i_length, l in enumerate(lengths):            \n",
    "                prob_10_05[agent, i_length] = np.prod(np.append(pol[:l-1], 1-pol[l-1]))\n",
    "        else:\n",
    "            for i_length, l in enumerate(lengths):            \n",
    "                prob_10_09[agent, i_length] = np.prod(np.append(pol[:l-1], 1-pol[l-1]))"
   ]
  },
  {
   "cell_type": "code",
   "execution_count": 79,
   "id": "a4c7e1ee-5d25-4f9c-bd36-82e81dfa537a",
   "metadata": {},
   "outputs": [],
   "source": [
    "num_agents = 10\n",
    "length_policy = 3000\n",
    "lengths = np.arange(length_policy)+1\n",
    "\n",
    "# policy_pw = np.zeros((num_agents, length_policy))\n",
    "prob_06_05 = np.zeros((num_agents, length_policy))\n",
    "prob_06_09 = np.zeros((num_agents, length_policy))\n",
    "\n",
    "for agent in range(num_agents):\n",
    "    \n",
    "    try:\n",
    "        h5 = np.load(f'../data_step_distr_plot/lc_0.6/memories_pop_{agent}_episode_69000.npy')[0]\n",
    "        h9 = np.load(f'../data_step_distr_plot/lc_0.6_withprior/memories_pop_{agent}_episode_69000.npy')[0]\n",
    "    except:\n",
    "        continue\n",
    "    for idxprior, h in enumerate([h5, h9]):    \n",
    "        norm = h.sum(0)\n",
    "        pol = h[0]/norm\n",
    "        \n",
    "        if idxprior == 0:\n",
    "            for i_length, l in enumerate(lengths):            \n",
    "                prob_06_05[agent, i_length] = np.prod(np.append(pol[:l-1], 1-pol[l-1]))\n",
    "        else:\n",
    "            for i_length, l in enumerate(lengths):            \n",
    "                prob_06_09[agent, i_length] = np.prod(np.append(pol[:l-1], 1-pol[l-1]))"
   ]
  },
  {
   "cell_type": "code",
   "execution_count": 89,
   "id": "b246fa28-fa67-4f91-b56d-a360cc274401",
   "metadata": {},
   "outputs": [
    {
     "data": {
      "text/plain": [
       "array([9.83909580e-01, 2.50120089e-07, 2.83535796e-07, ...,\n",
       "       2.72718271e-15, 2.69991088e-15, 2.67291177e-15])"
      ]
     },
     "execution_count": 89,
     "metadata": {},
     "output_type": "execute_result"
    }
   ],
   "source": [
    "med/np.sum(med)"
   ]
  },
  {
   "cell_type": "code",
   "execution_count": 109,
   "id": "1ea89116-dd22-455f-a336-dba245ff8ecd",
   "metadata": {},
   "outputs": [
    {
     "data": {
      "text/plain": [
       "[1e-06, 3]"
      ]
     },
     "execution_count": 109,
     "metadata": {},
     "output_type": "execute_result"
    },
    {
     "data": {
      "image/png": "[encoded data removed]",
      "text/plain": [
       "<Figure size 600x300 with 2 Axes>"
      ]
     },
     "metadata": {},
     "output_type": "display_data"
    }
   ],
   "source": [
    "fig, ax = plt.subplots(1, 2, figsize = (6, 3))\n",
    "l06 = 3000\n",
    "for p in [prob_06_05, prob_06_09]:\n",
    "    med = np.median(p, axis = 0)\n",
    "    ax[0].loglog(np.arange(1, l06+1), med[:l06]/np.sum(med), '-o', ms = 2, lw = 0.1)\n",
    "    # ax[0].loglog(np.arange(1, length_p+1), np.median(prob_06_09, axis = 0), '-o', ms = 2, lw = 0.1)\n",
    "\n",
    "l10 = 3000\n",
    "for p, l in zip([prob_10_05, prob_10_09], [l10, l10]):\n",
    "    med = np.median(p, axis = 0)\n",
    "    ax[1].loglog(np.arange(1, l+1), med[:l]/np.sum(med), '-o', ms = 2, lw = 0.1)\n",
    "    \n",
    "# ax[1].loglog(np.arange(1, length_np+1), np.median(prob_10_05, axis = 0), '-o', ms = 2, lw = 0.1)\n",
    "# ax[1].loglog(np.arange(1, length_p+1), np.median(prob_10_09, axis = 0), '-o', ms = 2, lw = 0.1)\n",
    "\n",
    "# plt.loglog(np.arange(1, length_policy+1), prob_pw_05[idxnoprior]/np.sum(prob_pw_05[idxnoprior]), \n",
    "#            '-o', ms = 2, lw = 0.1, alpha = 0.1, c = 'C0', zorder = -1)\n",
    "# plt.loglog(np.arange(1, length_policy+1), prob_pw_09[idxprior]/np.sum(prob_pw_09[idxprior]), \n",
    "#            '-o', ms = 2, lw = 0.1, alpha = 0.1, c = 'C1', zorder = -1)\n",
    "\n",
    "# pw = np.arange(1, length_np+1)**(-1+0.01)\n",
    "# ax[1].loglog(np.arange(1, length_np+1), pw/np.sum(pw), c = 'k', zorder = -1)\n",
    "\n",
    "plt.setp(ax[0], ylim = (1e-7, 3))\n",
    "plt.setp(ax[1], ylim = (1e-6, 3))"
   ]
  },
  {
   "cell_type": "code",
   "execution_count": null,
   "id": "2ecbed64-caae-4d57-b410-fec9ed143a63",
   "metadata": {},
   "outputs": [],
   "source": []
  }
 ],
 "metadata": {
  "kernelspec": {
   "display_name": "optimal_search",
   "language": "python",
   "name": "optimal_search"
  },
  "language_info": {
   "codemirror_mode": {
    "name": "ipython",
    "version": 3
   },
   "file_extension": ".py",
   "mimetype": "text/x-python",
   "name": "python",
   "nbconvert_exporter": "python",
   "pygments_lexer": "ipython3",
   "version": "3.10.8"
  }
 },
 "nbformat": 4,
 "nbformat_minor": 5
}
